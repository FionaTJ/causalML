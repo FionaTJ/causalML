{
  "nbformat": 4,
  "nbformat_minor": 0,
  "metadata": {
    "colab": {
      "provenance": []
    },
    "kernelspec": {
      "name": "python3",
      "display_name": "Python 3"
    },
    "language_info": {
      "name": "python"
    }
  },
  "cells": [
    {
      "cell_type": "code",
      "execution_count": 1,
      "metadata": {
        "colab": {
          "base_uri": "https://localhost:8080/"
        },
        "id": "dHfRCUVXR1Vp",
        "outputId": "1bb45581-7fb4-4e94-fd56-2c5957dbe7c7"
      },
      "outputs": [
        {
          "output_type": "stream",
          "name": "stdout",
          "text": [
            "Looking in indexes: https://pypi.org/simple, https://us-python.pkg.dev/colab-wheels/public/simple/\n",
            "Requirement already satisfied: pyro-ppl in /usr/local/lib/python3.8/dist-packages (1.8.4)\n",
            "Requirement already satisfied: torch>=1.11.0 in /usr/local/lib/python3.8/dist-packages (from pyro-ppl) (1.13.1+cu116)\n",
            "Requirement already satisfied: tqdm>=4.36 in /usr/local/lib/python3.8/dist-packages (from pyro-ppl) (4.64.1)\n",
            "Requirement already satisfied: pyro-api>=0.1.1 in /usr/local/lib/python3.8/dist-packages (from pyro-ppl) (0.1.2)\n",
            "Requirement already satisfied: numpy>=1.7 in /usr/local/lib/python3.8/dist-packages (from pyro-ppl) (1.22.4)\n",
            "Requirement already satisfied: opt-einsum>=2.3.2 in /usr/local/lib/python3.8/dist-packages (from pyro-ppl) (3.3.0)\n",
            "Requirement already satisfied: typing-extensions in /usr/local/lib/python3.8/dist-packages (from torch>=1.11.0->pyro-ppl) (4.5.0)\n"
          ]
        }
      ],
      "source": [
        "!pip install pyro-ppl"
      ]
    },
    {
      "cell_type": "markdown",
      "source": [
        "Downnload and generate summary statistics of the observational data."
      ],
      "metadata": {
        "id": "cVTYjM5pNCvG"
      }
    },
    {
      "cell_type": "code",
      "source": [
        "import pandas as pd\n",
        "import numpy as np\n",
        "df = pd.read_csv(\"https://raw.githubusercontent.com/altdeep/causalML/master/datasets/sidequests_and_purchases_obs.csv\")    #A\n",
        "df.groupby(    #B\n",
        "    [\"Side-quest Engagement\"]    #B\n",
        ").agg(    #C\n",
        "    ['count', 'mean', np.std]    #C\n",
        ")\n"
      ],
      "metadata": {
        "colab": {
          "base_uri": "https://localhost:8080/",
          "height": 175
        },
        "id": "TP-bCjzR1TKj",
        "outputId": "3164a12e-3e4a-41ee-9682-b6efb2604857"
      },
      "execution_count": 2,
      "outputs": [
        {
          "output_type": "execute_result",
          "data": {
            "text/plain": [
              "                      In-game Purchases                       \n",
              "                                  count        mean        std\n",
              "Side-quest Engagement                                         \n",
              "high                                482  111.609461  55.562334\n",
              "low                                 518   73.096371  75.947688"
            ],
            "text/html": [
              "\n",
              "  <div id=\"df-aca4b281-9e7d-4429-9805-ab056ad541a7\">\n",
              "    <div class=\"colab-df-container\">\n",
              "      <div>\n",
              "<style scoped>\n",
              "    .dataframe tbody tr th:only-of-type {\n",
              "        vertical-align: middle;\n",
              "    }\n",
              "\n",
              "    .dataframe tbody tr th {\n",
              "        vertical-align: top;\n",
              "    }\n",
              "\n",
              "    .dataframe thead tr th {\n",
              "        text-align: left;\n",
              "    }\n",
              "\n",
              "    .dataframe thead tr:last-of-type th {\n",
              "        text-align: right;\n",
              "    }\n",
              "</style>\n",
              "<table border=\"1\" class=\"dataframe\">\n",
              "  <thead>\n",
              "    <tr>\n",
              "      <th></th>\n",
              "      <th colspan=\"3\" halign=\"left\">In-game Purchases</th>\n",
              "    </tr>\n",
              "    <tr>\n",
              "      <th></th>\n",
              "      <th>count</th>\n",
              "      <th>mean</th>\n",
              "      <th>std</th>\n",
              "    </tr>\n",
              "    <tr>\n",
              "      <th>Side-quest Engagement</th>\n",
              "      <th></th>\n",
              "      <th></th>\n",
              "      <th></th>\n",
              "    </tr>\n",
              "  </thead>\n",
              "  <tbody>\n",
              "    <tr>\n",
              "      <th>high</th>\n",
              "      <td>482</td>\n",
              "      <td>111.609461</td>\n",
              "      <td>55.562334</td>\n",
              "    </tr>\n",
              "    <tr>\n",
              "      <th>low</th>\n",
              "      <td>518</td>\n",
              "      <td>73.096371</td>\n",
              "      <td>75.947688</td>\n",
              "    </tr>\n",
              "  </tbody>\n",
              "</table>\n",
              "</div>\n",
              "      <button class=\"colab-df-convert\" onclick=\"convertToInteractive('df-aca4b281-9e7d-4429-9805-ab056ad541a7')\"\n",
              "              title=\"Convert this dataframe to an interactive table.\"\n",
              "              style=\"display:none;\">\n",
              "        \n",
              "  <svg xmlns=\"http://www.w3.org/2000/svg\" height=\"24px\"viewBox=\"0 0 24 24\"\n",
              "       width=\"24px\">\n",
              "    <path d=\"M0 0h24v24H0V0z\" fill=\"none\"/>\n",
              "    <path d=\"M18.56 5.44l.94 2.06.94-2.06 2.06-.94-2.06-.94-.94-2.06-.94 2.06-2.06.94zm-11 1L8.5 8.5l.94-2.06 2.06-.94-2.06-.94L8.5 2.5l-.94 2.06-2.06.94zm10 10l.94 2.06.94-2.06 2.06-.94-2.06-.94-.94-2.06-.94 2.06-2.06.94z\"/><path d=\"M17.41 7.96l-1.37-1.37c-.4-.4-.92-.59-1.43-.59-.52 0-1.04.2-1.43.59L10.3 9.45l-7.72 7.72c-.78.78-.78 2.05 0 2.83L4 21.41c.39.39.9.59 1.41.59.51 0 1.02-.2 1.41-.59l7.78-7.78 2.81-2.81c.8-.78.8-2.07 0-2.86zM5.41 20L4 18.59l7.72-7.72 1.47 1.35L5.41 20z\"/>\n",
              "  </svg>\n",
              "      </button>\n",
              "      \n",
              "  <style>\n",
              "    .colab-df-container {\n",
              "      display:flex;\n",
              "      flex-wrap:wrap;\n",
              "      gap: 12px;\n",
              "    }\n",
              "\n",
              "    .colab-df-convert {\n",
              "      background-color: #E8F0FE;\n",
              "      border: none;\n",
              "      border-radius: 50%;\n",
              "      cursor: pointer;\n",
              "      display: none;\n",
              "      fill: #1967D2;\n",
              "      height: 32px;\n",
              "      padding: 0 0 0 0;\n",
              "      width: 32px;\n",
              "    }\n",
              "\n",
              "    .colab-df-convert:hover {\n",
              "      background-color: #E2EBFA;\n",
              "      box-shadow: 0px 1px 2px rgba(60, 64, 67, 0.3), 0px 1px 3px 1px rgba(60, 64, 67, 0.15);\n",
              "      fill: #174EA6;\n",
              "    }\n",
              "\n",
              "    [theme=dark] .colab-df-convert {\n",
              "      background-color: #3B4455;\n",
              "      fill: #D2E3FC;\n",
              "    }\n",
              "\n",
              "    [theme=dark] .colab-df-convert:hover {\n",
              "      background-color: #434B5C;\n",
              "      box-shadow: 0px 1px 3px 1px rgba(0, 0, 0, 0.15);\n",
              "      filter: drop-shadow(0px 1px 2px rgba(0, 0, 0, 0.3));\n",
              "      fill: #FFFFFF;\n",
              "    }\n",
              "  </style>\n",
              "\n",
              "      <script>\n",
              "        const buttonEl =\n",
              "          document.querySelector('#df-aca4b281-9e7d-4429-9805-ab056ad541a7 button.colab-df-convert');\n",
              "        buttonEl.style.display =\n",
              "          google.colab.kernel.accessAllowed ? 'block' : 'none';\n",
              "\n",
              "        async function convertToInteractive(key) {\n",
              "          const element = document.querySelector('#df-aca4b281-9e7d-4429-9805-ab056ad541a7');\n",
              "          const dataTable =\n",
              "            await google.colab.kernel.invokeFunction('convertToInteractive',\n",
              "                                                     [key], {});\n",
              "          if (!dataTable) return;\n",
              "\n",
              "          const docLinkHtml = 'Like what you see? Visit the ' +\n",
              "            '<a target=\"_blank\" href=https://colab.research.google.com/notebooks/data_table.ipynb>data table notebook</a>'\n",
              "            + ' to learn more about interactive tables.';\n",
              "          element.innerHTML = '';\n",
              "          dataTable['output_type'] = 'display_data';\n",
              "          await google.colab.output.renderOutput(dataTable, element);\n",
              "          const docLink = document.createElement('div');\n",
              "          docLink.innerHTML = docLinkHtml;\n",
              "          element.appendChild(docLink);\n",
              "        }\n",
              "      </script>\n",
              "    </div>\n",
              "  </div>\n",
              "  "
            ]
          },
          "metadata": {},
          "execution_count": 2
        }
      ]
    },
    {
      "cell_type": "markdown",
      "source": [
        "Calculate significance."
      ],
      "metadata": {
        "id": "UrEdUX4xUxWe"
      }
    },
    {
      "cell_type": "code",
      "source": [
        "summary = df.groupby(    #B\n",
        "    [\"Side-quest Engagement\"]    #B\n",
        ").agg(    #C\n",
        "    ['count', 'mean', np.std]    #C\n",
        ")\n",
        "n1, n2 = summary['In-game Purchases']['count']    #D\n",
        "m1, m2 = summary['In-game Purchases']['mean']    #E\n",
        "s1, s2 =  summary['In-game Purchases']['std']    #F\n",
        "pooled_std = (s1**2 / n1 + s2**2 / n2) **.5    #G\n",
        "z_score = (m1 - m2) / pooled_std    #H\n",
        "abs(z_score) > 2.    #I"
      ],
      "metadata": {
        "colab": {
          "base_uri": "https://localhost:8080/"
        },
        "id": "rkWUiKYuVD8V",
        "outputId": "3937c3fb-89a9-48b0-f291-d7e6b87e7b0a"
      },
      "execution_count": 3,
      "outputs": [
        {
          "output_type": "execute_result",
          "data": {
            "text/plain": [
              "True"
            ]
          },
          "metadata": {},
          "execution_count": 3
        }
      ]
    },
    {
      "cell_type": "markdown",
      "source": [
        "Do the same for the experimental data."
      ],
      "metadata": {
        "id": "rYu2A91PVI2F"
      }
    },
    {
      "cell_type": "code",
      "source": [
        "import pandas as pd\n",
        "import numpy as np\n",
        "df = pd.read_csv(\"https://raw.githubusercontent.com/altdeep/causalML/master/datasets/sidequests_and_purchases_exp.csv\")    #A\n",
        "summary = df.groupby(    #B\n",
        "    [\"Side-quest Engagement\"]    #B\n",
        ").agg(    #C\n",
        "    ['count', 'mean', np.std]    #C\n",
        ")\n",
        "print(summary)\n",
        "n1, n2 = summary['In-game Purchases']['count']    #D\n",
        "m1, m2 = summary['In-game Purchases']['mean']    #E\n",
        "s1, s2 =  summary['In-game Purchases']['std']    #F\n",
        "pooled_std = (s1**2 / n1 + s2**2 / n2) **.5    #G\n",
        "z_score = (m1 - m2) / pooled_std    #H\n",
        "abs(z_score) > 2.    #I"
      ],
      "metadata": {
        "id": "lrKQNEy58ZcG",
        "colab": {
          "base_uri": "https://localhost:8080/"
        },
        "outputId": "bed82b12-5a04-443c-cc2f-a71f1a21aa0a"
      },
      "execution_count": 4,
      "outputs": [
        {
          "output_type": "stream",
          "name": "stdout",
          "text": [
            "                      In-game Purchases                      \n",
            "                                  count       mean        std\n",
            "Side-quest Engagement                                        \n",
            "high                                500   92.99054  51.673631\n",
            "low                                 500  131.38228  94.840705\n"
          ]
        },
        {
          "output_type": "execute_result",
          "data": {
            "text/plain": [
              "True"
            ]
          },
          "metadata": {},
          "execution_count": 4
        }
      ]
    },
    {
      "cell_type": "markdown",
      "source": [
        "```\n",
        "#A Load the observational data from the database query into a pandas dataframe.\n",
        "#B For each level of side-quest engagement (\"low\", \"high\")...\n",
        "#C Calculate the sample count (number of players), the sample mean in-game purchase amount, and the standard deviation.\n",
        "#D n1 and n2 are the number of players in each group (high vs low engagement).\n",
        "#E m1 and m2 are the group sample means.\n",
        "#F s1 and s2 are the group standard deviations.\n",
        "#G Estimate the standard error of the difference in mean spend between the two groups by pooling (combining) the group standard deviations.\n",
        "#H Convert to a z-score, a statistic that has a standard normal distribution (mean 0 and scale 1) under the (null) hypothesis that players spend on average the same way regardless of their level of engagement.\n",
        "#I This tests if the z-score is more than 2 standard deviations from 0. It returns true.  There is only about a 2.3% chance having a z-score larger than 2 under the null hypothesis that engagement doesn't matter.  This indicates the difference is significant under a standard 5% significance threshold.\n",
        "```"
      ],
      "metadata": {
        "id": "4a0LFlyYVkoB"
      }
    },
    {
      "cell_type": "markdown",
      "source": [
        "# Building a generative model for use in simulating the experiment with intervention.\n",
        "\n",
        "Download full observational data with guild membership.  Calculate the marginal distribution of guild membership."
      ],
      "metadata": {
        "id": "4iZCNPqDNKwn"
      }
    },
    {
      "cell_type": "code",
      "source": [
        "import pandas as pd\n",
        "df = pd.read_csv(\"https://raw.githubusercontent.com/altdeep/causalML/master/datasets/sidequests_and_purchases_full_obs.csv\")     #A\n",
        "\n",
        "membership_counts = df['Guild Membership'].value_counts()    #B\n",
        "dist_guild_membership = membership_counts / sum(membership_counts)    #B\n",
        "print(dist_guild_membership)    #B"
      ],
      "metadata": {
        "colab": {
          "base_uri": "https://localhost:8080/"
        },
        "id": "IyfgGcndVoht",
        "outputId": "1d53f73f-2f43-421b-aeb8-cf6ff6616e25"
      },
      "execution_count": 5,
      "outputs": [
        {
          "output_type": "stream",
          "name": "stdout",
          "text": [
            "nonmember    0.515\n",
            "member       0.485\n",
            "Name: Guild Membership, dtype: float64\n"
          ]
        }
      ]
    },
    {
      "cell_type": "markdown",
      "source": [
        "```\n",
        "#A Load the data from the database query into a pandas dataframe.\n",
        "#B Calculate the proportions of members vs. nonmembers \n",
        "```"
      ],
      "metadata": {
        "id": "-F3MFvri1VEW"
      }
    },
    {
      "cell_type": "markdown",
      "source": [
        "For guild members and nonmembers respectively, calculate the probability distribution of side-quest engagement.\n"
      ],
      "metadata": {
        "id": "2CuCrKoNNerw"
      }
    },
    {
      "cell_type": "code",
      "source": [
        "member_subset = df[df['Guild Membership'] == 'member']    #A\n",
        "member_engagement_counts = member_subset['Side-quest Engagement'].value_counts()    #A\n",
        "dist_engagement_member = member_engagement_counts / sum(member_engagement_counts)    #A\n",
        "print(dist_engagement_member)    #A\n",
        "\n",
        "nonmember_subset = df[df['Guild Membership'] == 'nonmember']    #B\n",
        "nonmember_engagement_counts = nonmember_subset['Side-quest Engagement'].value_counts()    #B\n",
        "dist_engagement_nonmember = nonmember_engagement_counts / sum(nonmember_engagement_counts)    #B\n",
        "print(dist_engagement_nonmember)    #B"
      ],
      "metadata": {
        "colab": {
          "base_uri": "https://localhost:8080/"
        },
        "id": "-wweZaSWfKIV",
        "outputId": "3d4c7828-6f93-47aa-838e-c90a49fd0fd1"
      },
      "execution_count": 6,
      "outputs": [
        {
          "output_type": "stream",
          "name": "stdout",
          "text": [
            "high    0.797938\n",
            "low     0.202062\n",
            "Name: Side-quest Engagement, dtype: float64\n",
            "low     0.815534\n",
            "high    0.184466\n",
            "Name: Side-quest Engagement, dtype: float64\n"
          ]
        }
      ]
    },
    {
      "cell_type": "markdown",
      "source": [
        "```\n",
        "#A Calculate the probability distribution of side-quest engagement level (\"high\" vs \"low\") given that a player is a member of a guild.\n",
        "#B Calculate the probability distribution of side-quest engagement level (\"high\" vs \"low\") given that a player is not a member of a guild.\n",
        "```"
      ],
      "metadata": {
        "id": "RaNKvX4xftZX"
      }
    },
    {
      "cell_type": "markdown",
      "source": [
        "For each combination of guild membership and side-quest engagement, calculate the mean and standard deviation of in-game purchases"
      ],
      "metadata": {
        "id": "ngM9h303N85O"
      }
    },
    {
      "cell_type": "code",
      "source": [
        "purchase_dist_nonmember_low_engagement = df[    #A\n",
        "    (df['Guild Membership'] == 'nonmember') &    #A\n",
        "    (df['Side-quest Engagement'] == 'low')    #A\n",
        "].agg(['mean', np.std])     #A\n",
        "print(round(purchase_dist_nonmember_low_engagement, 2))    #A\n",
        "\n",
        "purchase_dist_nonmember_high_engagement = df[    #B\n",
        "    (df['Guild Membership'] == 'nonmember') &    #B\n",
        "    (df['Side-quest Engagement'] == 'high')    #B\n",
        "].agg(['mean', np.std])    #B\n",
        "print(round(purchase_dist_nonmember_high_engagement, 2))    #B\n",
        "\n",
        "purchase_dist_member_low_engagement = df[    #C\n",
        "    (df['Guild Membership'] == 'member') &    #C\n",
        "    (df['Side-quest Engagement'] == 'low')    #C\n",
        "].agg(['mean', np.std])     #C\n",
        "print(round(purchase_dist_member_low_engagement, 2))    #C\n",
        "\n",
        "purchase_dist_member_high_engagement = df[    #D\n",
        "    (df['Guild Membership'] == 'member') &    #D\n",
        "    (df['Side-quest Engagement'] == 'high')    #D\n",
        "].agg(['mean', np.std])     #D\n",
        "print(round(purchase_dist_member_high_engagement, 2))    #D"
      ],
      "metadata": {
        "id": "yAMYV-oEW1zV",
        "colab": {
          "base_uri": "https://localhost:8080/"
        },
        "outputId": "04e9cb49-3820-4bf4-ca96-b5953244a6cc"
      },
      "execution_count": 7,
      "outputs": [
        {
          "output_type": "stream",
          "name": "stdout",
          "text": [
            "      In-game Purchases\n",
            "mean              37.95\n",
            "std               23.80\n",
            "      In-game Purchases\n",
            "mean              54.92\n",
            "std                4.92\n",
            "      In-game Purchases\n",
            "mean             223.71\n",
            "std                5.30\n",
            "      In-game Purchases\n",
            "mean             125.53\n",
            "std               53.44\n"
          ]
        }
      ]
    },
    {
      "cell_type": "markdown",
      "source": [
        "```\n",
        "#A Estimate the sample mean and standard deviation of in-game purchases for non-guild-members with low side-quest engagement.\n",
        "#B Estimate the sample mean and standard deviation of in-game purchases for non-guild-members with high side-quest engagement.\n",
        "#C Estimate the sample mean and standard deviation of in-game purchases for guild-members with low side-quest engagement.\n",
        "#D Estimate the sample mean and standard deviation of in-game purchases for guild-members with high side-quest engagement.\n",
        "```"
      ],
      "metadata": {
        "id": "KB16EfkFY01Z"
      }
    },
    {
      "cell_type": "markdown",
      "source": [
        "Specify a generative model on the causal DAG.  Use the statistics calculated above as maximum likelihood estimates of model parameters."
      ],
      "metadata": {
        "id": "XgDpro60OoHl"
      }
    },
    {
      "cell_type": "code",
      "source": [
        "import pyro\n",
        "from torch import tensor\n",
        "from pyro.distributions import Bernoulli, HalfNormal, Normal\n",
        "\n",
        "def model():\n",
        "    p_member = tensor(0.5)    #A\n",
        "    is_guild_member = pyro.sample(    #A\n",
        "        \"Guild Membership\",    #A\n",
        "        Bernoulli(p_member)    #A\n",
        "    )    #A\n",
        "    p_engaged = (tensor(0.8)*is_guild_member +    #B\n",
        "                 tensor(.2)*(1-is_guild_member))    #B\n",
        "    is_highly_engaged = pyro.sample(    #B\n",
        "        \"Side-quest Engagement\",    #B\n",
        "        Bernoulli(p_engaged)    #B\n",
        "    )    #B\n",
        "    μ = (    #C\n",
        "             37.95 * (1-is_guild_member) * (1 - is_highly_engaged) +    #C\n",
        "             54.92 * (1-is_guild_member) * (is_highly_engaged) +    #C\n",
        "            223.71 * (is_guild_member)   * (1 - is_highly_engaged) +    #C  \n",
        "            125.50 * (is_guild_member)   * (is_highly_engaged)    #C\n",
        "    )    #C\n",
        "    σ = (    #D\n",
        "             23.80 * (1-is_guild_member) * (1 - is_highly_engaged) +    #D\n",
        "              4.92 * (1-is_guild_member) * (is_highly_engaged) +    #D\n",
        "              5.30 * (is_guild_member)   * (1 - is_highly_engaged) +    #D\n",
        "             53.49 * (is_guild_member)   * (is_highly_engaged)    #D\n",
        "    )    #D\n",
        "    if(is_guild_member == tensor(0.) and is_highly_engaged == tensor(0.)):   #E\n",
        "        in_game_purchases = pyro.sample(    #E\n",
        "            \"In-game Purchases\",    #E\n",
        "            HalfNormal(μ, σ)    #E\n",
        "        )    #E\n",
        "    else:    #E\n",
        "        in_game_purchases = pyro.sample(\"In-game Purchases\", Normal(μ, σ))   #E\n",
        "\n",
        "    guild_membership = \"member\" if is_guild_member else \"nonmember\"    #F\n",
        "    engagement = \"high\" if is_highly_engaged else \"low\"    #F\n",
        "    in_game_purchases = float(in_game_purchases)    #F\n",
        "\n",
        "    return guild_membership, engagement, in_game_purchases"
      ],
      "metadata": {
        "id": "jEHi29iNRx0F"
      },
      "execution_count": 8,
      "outputs": []
    },
    {
      "cell_type": "markdown",
      "source": [
        "````\n",
        "#A Probability of being a guild member vs a non-member is .5.  Using this probability, we generate a guild membership value from a Bernoulli distribution, where a value 1.0 indicates a member, and a value of 0.0 indicates a non-member.\n",
        "#B We similarly generate a value for side-quest engagement form a Bernoulli distribution.  A value of 1.0 indicates high engagement and a value of 0.0 indicates low engagement. Side-quest engagement depends on guild membership. So we use the 1.0/0.0 value of is_guild_member to select between a .2 probability of being highly engaged in side-quests for guild members, and .8 probability of being highly engaged in side-quests for nonmembers. The math that uses 1.0/0.0 value of is_guild_member to select the value assigned to p_engaged is called an \"indicator function.\" It is less Pythonic than using if-then statements, but it will allow pyro.render_model to derive the causal DAG.\n",
        "#C Here we specify the mean parameter of a canonical distribution on in-game purchases using the sample means we found in the observational data.  Again, we use an indicator function approach to select the right value of the mean given guild membership and level of side-quest engagement.\n",
        "#D As with the mean parameters, we specify the scale parameters for a canonical distribution on in-game purchases using the standard deviations we found in the data.\n",
        "#E In every case except for non-guild-members with low side-quest engagement, we use as our canonical distribution for in-game purchases a normal distribution with mean and scale .  For non-guild-members, I don't feel comfortable using a normal distribution.  Generation from a normal distribution with a mean of 37.95 and scale parameter of 23.80 would have about a .055 probability of generating a negative value.  In-game purchases of course cannot be negative. This is not a big deal, but unlike pgmpy, pyro gives us tremendous parameteric flexibility. So for unengaged non-guild-members I use a half-normal distribution.  Generating from the half-normal distribution is the same as generating from the normal, except any negative values will have their sign changed to positive.  Since this will happen only about 5.5% of the time with negative values close to zero, it adds minimal bias to the mean for this group. \n",
        "#F Finally, we convert the variable values from tensors to the character strings and floats we see in the original data.\n",
        "````"
      ],
      "metadata": {
        "id": "KUDZTGXKXfCF"
      }
    },
    {
      "cell_type": "markdown",
      "source": [
        "Confirm that the generative model adheres to the causal DAG structure using pyro.render."
      ],
      "metadata": {
        "id": "322zKFc2O6Gk"
      }
    },
    {
      "cell_type": "code",
      "source": [
        "pyro.render_model(model)"
      ],
      "metadata": {
        "colab": {
          "base_uri": "https://localhost:8080/",
          "height": 307
        },
        "id": "f14wnt5tVzkG",
        "outputId": "073a8f6e-8db7-40a6-a2a8-0beb34a8488f"
      },
      "execution_count": 9,
      "outputs": [
        {
          "output_type": "stream",
          "name": "stderr",
          "text": [
            "/usr/local/lib/python3.8/dist-packages/torch/cuda/__init__.py:497: UserWarning: Can't initialize NVML\n",
            "  warnings.warn(\"Can't initialize NVML\")\n"
          ]
        },
        {
          "output_type": "execute_result",
          "data": {
            "text/plain": [
              "<graphviz.dot.Digraph at 0x7f2634cd3c10>"
            ],
            "image/svg+xml": "<?xml version=\"1.0\" encoding=\"UTF-8\" standalone=\"no\"?>\n<!DOCTYPE svg PUBLIC \"-//W3C//DTD SVG 1.1//EN\"\n \"http://www.w3.org/Graphics/SVG/1.1/DTD/svg11.dtd\">\n<!-- Generated by graphviz version 2.43.0 (0)\n -->\n<!-- Title: %3 Pages: 1 -->\n<svg width=\"243pt\" height=\"188pt\"\n viewBox=\"0.00 0.00 242.53 188.00\" xmlns=\"http://www.w3.org/2000/svg\" xmlns:xlink=\"http://www.w3.org/1999/xlink\">\n<g id=\"graph0\" class=\"graph\" transform=\"scale(1 1) rotate(0) translate(4 184)\">\n<title>%3</title>\n<polygon fill=\"white\" stroke=\"transparent\" points=\"-4,4 -4,-184 238.53,-184 238.53,4 -4,4\"/>\n<!-- Guild Membership -->\n<g id=\"node1\" class=\"node\">\n<title>Guild Membership</title>\n<ellipse fill=\"white\" stroke=\"black\" cx=\"155.89\" cy=\"-162\" rx=\"78.79\" ry=\"18\"/>\n<text text-anchor=\"middle\" x=\"155.89\" y=\"-158.3\" font-family=\"Times,serif\" font-size=\"14.00\">Guild Membership</text>\n</g>\n<!-- Side&#45;quest Engagement -->\n<g id=\"node2\" class=\"node\">\n<title>Side&#45;quest Engagement</title>\n<ellipse fill=\"white\" stroke=\"black\" cx=\"94.89\" cy=\"-90\" rx=\"94.78\" ry=\"18\"/>\n<text text-anchor=\"middle\" x=\"94.89\" y=\"-86.3\" font-family=\"Times,serif\" font-size=\"14.00\">Side&#45;quest Engagement</text>\n</g>\n<!-- Guild Membership&#45;&gt;Side&#45;quest Engagement -->\n<g id=\"edge1\" class=\"edge\">\n<title>Guild Membership&#45;&gt;Side&#45;quest Engagement</title>\n<path fill=\"none\" stroke=\"black\" d=\"M141.13,-144.05C133.63,-135.46 124.4,-124.86 116.15,-115.4\"/>\n<polygon fill=\"black\" stroke=\"black\" points=\"118.73,-113.03 109.52,-107.79 113.45,-117.63 118.73,-113.03\"/>\n</g>\n<!-- In&#45;game Purchases -->\n<g id=\"node3\" class=\"node\">\n<title>In&#45;game Purchases</title>\n<ellipse fill=\"white\" stroke=\"black\" cx=\"155.89\" cy=\"-18\" rx=\"77.99\" ry=\"18\"/>\n<text text-anchor=\"middle\" x=\"155.89\" y=\"-14.3\" font-family=\"Times,serif\" font-size=\"14.00\">In&#45;game Purchases</text>\n</g>\n<!-- Guild Membership&#45;&gt;In&#45;game Purchases -->\n<g id=\"edge2\" class=\"edge\">\n<title>Guild Membership&#45;&gt;In&#45;game Purchases</title>\n<path fill=\"none\" stroke=\"black\" d=\"M174.48,-144.3C183.74,-134.72 193.98,-121.85 198.89,-108 204.24,-92.92 204.24,-87.08 198.89,-72 195.17,-61.51 188.39,-51.58 181.29,-43.21\"/>\n<polygon fill=\"black\" stroke=\"black\" points=\"183.79,-40.75 174.48,-35.7 178.61,-45.46 183.79,-40.75\"/>\n</g>\n<!-- Side&#45;quest Engagement&#45;&gt;In&#45;game Purchases -->\n<g id=\"edge3\" class=\"edge\">\n<title>Side&#45;quest Engagement&#45;&gt;In&#45;game Purchases</title>\n<path fill=\"none\" stroke=\"black\" d=\"M109.66,-72.05C117.15,-63.46 126.39,-52.86 134.63,-43.4\"/>\n<polygon fill=\"black\" stroke=\"black\" points=\"137.33,-45.63 141.26,-35.79 132.05,-41.03 137.33,-45.63\"/>\n</g>\n</g>\n</svg>\n"
          },
          "metadata": {},
          "execution_count": 9
        }
      ]
    },
    {
      "cell_type": "markdown",
      "source": [
        "Show that this model encodes both the observational and interventional distribution.\n",
        "\n",
        "Observational:"
      ],
      "metadata": {
        "id": "aZ8D9DKnsCVB"
      }
    },
    {
      "cell_type": "code",
      "source": [
        "pyro.util.set_rng_seed(123)\n",
        "simulated_observational_data = [model() for _ in range(1000)]    \n",
        "sim_full_obs_df = pd.DataFrame(\n",
        "    simulated_observational_data,\n",
        "    columns=[\"Guild Membership\", \"Side-quest Engagement\", \"In-Game Purchases\"]\n",
        ")\n",
        "sim_obs_df = sim_full_obs_df.drop(\"Guild Membership\", axis=1)\n",
        "sim_obs_df.groupby([\"Side-quest Engagement\"]).agg(['count', 'mean', np.std])"
      ],
      "metadata": {
        "colab": {
          "base_uri": "https://localhost:8080/",
          "height": 175
        },
        "id": "qaEjxTxmr3DK",
        "outputId": "77bfb00e-4198-48fc-e123-27ebf863c680"
      },
      "execution_count": 10,
      "outputs": [
        {
          "output_type": "execute_result",
          "data": {
            "text/plain": [
              "                      In-Game Purchases                       \n",
              "                                  count        mean        std\n",
              "Side-quest Engagement                                         \n",
              "high                                500  108.961974  56.128941\n",
              "low                                 500   65.915060  78.108363"
            ],
            "text/html": [
              "\n",
              "  <div id=\"df-b650c425-7630-4f59-8f47-a6f3aba73c18\">\n",
              "    <div class=\"colab-df-container\">\n",
              "      <div>\n",
              "<style scoped>\n",
              "    .dataframe tbody tr th:only-of-type {\n",
              "        vertical-align: middle;\n",
              "    }\n",
              "\n",
              "    .dataframe tbody tr th {\n",
              "        vertical-align: top;\n",
              "    }\n",
              "\n",
              "    .dataframe thead tr th {\n",
              "        text-align: left;\n",
              "    }\n",
              "\n",
              "    .dataframe thead tr:last-of-type th {\n",
              "        text-align: right;\n",
              "    }\n",
              "</style>\n",
              "<table border=\"1\" class=\"dataframe\">\n",
              "  <thead>\n",
              "    <tr>\n",
              "      <th></th>\n",
              "      <th colspan=\"3\" halign=\"left\">In-Game Purchases</th>\n",
              "    </tr>\n",
              "    <tr>\n",
              "      <th></th>\n",
              "      <th>count</th>\n",
              "      <th>mean</th>\n",
              "      <th>std</th>\n",
              "    </tr>\n",
              "    <tr>\n",
              "      <th>Side-quest Engagement</th>\n",
              "      <th></th>\n",
              "      <th></th>\n",
              "      <th></th>\n",
              "    </tr>\n",
              "  </thead>\n",
              "  <tbody>\n",
              "    <tr>\n",
              "      <th>high</th>\n",
              "      <td>500</td>\n",
              "      <td>108.961974</td>\n",
              "      <td>56.128941</td>\n",
              "    </tr>\n",
              "    <tr>\n",
              "      <th>low</th>\n",
              "      <td>500</td>\n",
              "      <td>65.915060</td>\n",
              "      <td>78.108363</td>\n",
              "    </tr>\n",
              "  </tbody>\n",
              "</table>\n",
              "</div>\n",
              "      <button class=\"colab-df-convert\" onclick=\"convertToInteractive('df-b650c425-7630-4f59-8f47-a6f3aba73c18')\"\n",
              "              title=\"Convert this dataframe to an interactive table.\"\n",
              "              style=\"display:none;\">\n",
              "        \n",
              "  <svg xmlns=\"http://www.w3.org/2000/svg\" height=\"24px\"viewBox=\"0 0 24 24\"\n",
              "       width=\"24px\">\n",
              "    <path d=\"M0 0h24v24H0V0z\" fill=\"none\"/>\n",
              "    <path d=\"M18.56 5.44l.94 2.06.94-2.06 2.06-.94-2.06-.94-.94-2.06-.94 2.06-2.06.94zm-11 1L8.5 8.5l.94-2.06 2.06-.94-2.06-.94L8.5 2.5l-.94 2.06-2.06.94zm10 10l.94 2.06.94-2.06 2.06-.94-2.06-.94-.94-2.06-.94 2.06-2.06.94z\"/><path d=\"M17.41 7.96l-1.37-1.37c-.4-.4-.92-.59-1.43-.59-.52 0-1.04.2-1.43.59L10.3 9.45l-7.72 7.72c-.78.78-.78 2.05 0 2.83L4 21.41c.39.39.9.59 1.41.59.51 0 1.02-.2 1.41-.59l7.78-7.78 2.81-2.81c.8-.78.8-2.07 0-2.86zM5.41 20L4 18.59l7.72-7.72 1.47 1.35L5.41 20z\"/>\n",
              "  </svg>\n",
              "      </button>\n",
              "      \n",
              "  <style>\n",
              "    .colab-df-container {\n",
              "      display:flex;\n",
              "      flex-wrap:wrap;\n",
              "      gap: 12px;\n",
              "    }\n",
              "\n",
              "    .colab-df-convert {\n",
              "      background-color: #E8F0FE;\n",
              "      border: none;\n",
              "      border-radius: 50%;\n",
              "      cursor: pointer;\n",
              "      display: none;\n",
              "      fill: #1967D2;\n",
              "      height: 32px;\n",
              "      padding: 0 0 0 0;\n",
              "      width: 32px;\n",
              "    }\n",
              "\n",
              "    .colab-df-convert:hover {\n",
              "      background-color: #E2EBFA;\n",
              "      box-shadow: 0px 1px 2px rgba(60, 64, 67, 0.3), 0px 1px 3px 1px rgba(60, 64, 67, 0.15);\n",
              "      fill: #174EA6;\n",
              "    }\n",
              "\n",
              "    [theme=dark] .colab-df-convert {\n",
              "      background-color: #3B4455;\n",
              "      fill: #D2E3FC;\n",
              "    }\n",
              "\n",
              "    [theme=dark] .colab-df-convert:hover {\n",
              "      background-color: #434B5C;\n",
              "      box-shadow: 0px 1px 3px 1px rgba(0, 0, 0, 0.15);\n",
              "      filter: drop-shadow(0px 1px 2px rgba(0, 0, 0, 0.3));\n",
              "      fill: #FFFFFF;\n",
              "    }\n",
              "  </style>\n",
              "\n",
              "      <script>\n",
              "        const buttonEl =\n",
              "          document.querySelector('#df-b650c425-7630-4f59-8f47-a6f3aba73c18 button.colab-df-convert');\n",
              "        buttonEl.style.display =\n",
              "          google.colab.kernel.accessAllowed ? 'block' : 'none';\n",
              "\n",
              "        async function convertToInteractive(key) {\n",
              "          const element = document.querySelector('#df-b650c425-7630-4f59-8f47-a6f3aba73c18');\n",
              "          const dataTable =\n",
              "            await google.colab.kernel.invokeFunction('convertToInteractive',\n",
              "                                                     [key], {});\n",
              "          if (!dataTable) return;\n",
              "\n",
              "          const docLinkHtml = 'Like what you see? Visit the ' +\n",
              "            '<a target=\"_blank\" href=https://colab.research.google.com/notebooks/data_table.ipynb>data table notebook</a>'\n",
              "            + ' to learn more about interactive tables.';\n",
              "          element.innerHTML = '';\n",
              "          dataTable['output_type'] = 'display_data';\n",
              "          await google.colab.output.renderOutput(dataTable, element);\n",
              "          const docLink = document.createElement('div');\n",
              "          docLink.innerHTML = docLinkHtml;\n",
              "          element.appendChild(docLink);\n",
              "        }\n",
              "      </script>\n",
              "    </div>\n",
              "  </div>\n",
              "  "
            ]
          },
          "metadata": {},
          "execution_count": 10
        }
      ]
    },
    {
      "cell_type": "markdown",
      "source": [
        "Compare this to the observational distribution in the actual data."
      ],
      "metadata": {
        "id": "7Yth-z5APGZ7"
      }
    },
    {
      "cell_type": "code",
      "source": [
        "df.drop(\"Guild Membership\", axis=1).groupby([\"Side-quest Engagement\"]).agg(['count', 'mean', np.std])\n"
      ],
      "metadata": {
        "id": "lphZ0nkGwL6T",
        "colab": {
          "base_uri": "https://localhost:8080/",
          "height": 175
        },
        "outputId": "2c227f2c-d25e-4ecb-d0c3-a9fb67c67373"
      },
      "execution_count": 11,
      "outputs": [
        {
          "output_type": "execute_result",
          "data": {
            "text/plain": [
              "                      In-game Purchases                       \n",
              "                                  count        mean        std\n",
              "Side-quest Engagement                                         \n",
              "high                                482  111.609461  55.562334\n",
              "low                                 518   73.096371  75.947688"
            ],
            "text/html": [
              "\n",
              "  <div id=\"df-009e4545-c7bb-4e16-b332-f05b37e628d7\">\n",
              "    <div class=\"colab-df-container\">\n",
              "      <div>\n",
              "<style scoped>\n",
              "    .dataframe tbody tr th:only-of-type {\n",
              "        vertical-align: middle;\n",
              "    }\n",
              "\n",
              "    .dataframe tbody tr th {\n",
              "        vertical-align: top;\n",
              "    }\n",
              "\n",
              "    .dataframe thead tr th {\n",
              "        text-align: left;\n",
              "    }\n",
              "\n",
              "    .dataframe thead tr:last-of-type th {\n",
              "        text-align: right;\n",
              "    }\n",
              "</style>\n",
              "<table border=\"1\" class=\"dataframe\">\n",
              "  <thead>\n",
              "    <tr>\n",
              "      <th></th>\n",
              "      <th colspan=\"3\" halign=\"left\">In-game Purchases</th>\n",
              "    </tr>\n",
              "    <tr>\n",
              "      <th></th>\n",
              "      <th>count</th>\n",
              "      <th>mean</th>\n",
              "      <th>std</th>\n",
              "    </tr>\n",
              "    <tr>\n",
              "      <th>Side-quest Engagement</th>\n",
              "      <th></th>\n",
              "      <th></th>\n",
              "      <th></th>\n",
              "    </tr>\n",
              "  </thead>\n",
              "  <tbody>\n",
              "    <tr>\n",
              "      <th>high</th>\n",
              "      <td>482</td>\n",
              "      <td>111.609461</td>\n",
              "      <td>55.562334</td>\n",
              "    </tr>\n",
              "    <tr>\n",
              "      <th>low</th>\n",
              "      <td>518</td>\n",
              "      <td>73.096371</td>\n",
              "      <td>75.947688</td>\n",
              "    </tr>\n",
              "  </tbody>\n",
              "</table>\n",
              "</div>\n",
              "      <button class=\"colab-df-convert\" onclick=\"convertToInteractive('df-009e4545-c7bb-4e16-b332-f05b37e628d7')\"\n",
              "              title=\"Convert this dataframe to an interactive table.\"\n",
              "              style=\"display:none;\">\n",
              "        \n",
              "  <svg xmlns=\"http://www.w3.org/2000/svg\" height=\"24px\"viewBox=\"0 0 24 24\"\n",
              "       width=\"24px\">\n",
              "    <path d=\"M0 0h24v24H0V0z\" fill=\"none\"/>\n",
              "    <path d=\"M18.56 5.44l.94 2.06.94-2.06 2.06-.94-2.06-.94-.94-2.06-.94 2.06-2.06.94zm-11 1L8.5 8.5l.94-2.06 2.06-.94-2.06-.94L8.5 2.5l-.94 2.06-2.06.94zm10 10l.94 2.06.94-2.06 2.06-.94-2.06-.94-.94-2.06-.94 2.06-2.06.94z\"/><path d=\"M17.41 7.96l-1.37-1.37c-.4-.4-.92-.59-1.43-.59-.52 0-1.04.2-1.43.59L10.3 9.45l-7.72 7.72c-.78.78-.78 2.05 0 2.83L4 21.41c.39.39.9.59 1.41.59.51 0 1.02-.2 1.41-.59l7.78-7.78 2.81-2.81c.8-.78.8-2.07 0-2.86zM5.41 20L4 18.59l7.72-7.72 1.47 1.35L5.41 20z\"/>\n",
              "  </svg>\n",
              "      </button>\n",
              "      \n",
              "  <style>\n",
              "    .colab-df-container {\n",
              "      display:flex;\n",
              "      flex-wrap:wrap;\n",
              "      gap: 12px;\n",
              "    }\n",
              "\n",
              "    .colab-df-convert {\n",
              "      background-color: #E8F0FE;\n",
              "      border: none;\n",
              "      border-radius: 50%;\n",
              "      cursor: pointer;\n",
              "      display: none;\n",
              "      fill: #1967D2;\n",
              "      height: 32px;\n",
              "      padding: 0 0 0 0;\n",
              "      width: 32px;\n",
              "    }\n",
              "\n",
              "    .colab-df-convert:hover {\n",
              "      background-color: #E2EBFA;\n",
              "      box-shadow: 0px 1px 2px rgba(60, 64, 67, 0.3), 0px 1px 3px 1px rgba(60, 64, 67, 0.15);\n",
              "      fill: #174EA6;\n",
              "    }\n",
              "\n",
              "    [theme=dark] .colab-df-convert {\n",
              "      background-color: #3B4455;\n",
              "      fill: #D2E3FC;\n",
              "    }\n",
              "\n",
              "    [theme=dark] .colab-df-convert:hover {\n",
              "      background-color: #434B5C;\n",
              "      box-shadow: 0px 1px 3px 1px rgba(0, 0, 0, 0.15);\n",
              "      filter: drop-shadow(0px 1px 2px rgba(0, 0, 0, 0.3));\n",
              "      fill: #FFFFFF;\n",
              "    }\n",
              "  </style>\n",
              "\n",
              "      <script>\n",
              "        const buttonEl =\n",
              "          document.querySelector('#df-009e4545-c7bb-4e16-b332-f05b37e628d7 button.colab-df-convert');\n",
              "        buttonEl.style.display =\n",
              "          google.colab.kernel.accessAllowed ? 'block' : 'none';\n",
              "\n",
              "        async function convertToInteractive(key) {\n",
              "          const element = document.querySelector('#df-009e4545-c7bb-4e16-b332-f05b37e628d7');\n",
              "          const dataTable =\n",
              "            await google.colab.kernel.invokeFunction('convertToInteractive',\n",
              "                                                     [key], {});\n",
              "          if (!dataTable) return;\n",
              "\n",
              "          const docLinkHtml = 'Like what you see? Visit the ' +\n",
              "            '<a target=\"_blank\" href=https://colab.research.google.com/notebooks/data_table.ipynb>data table notebook</a>'\n",
              "            + ' to learn more about interactive tables.';\n",
              "          element.innerHTML = '';\n",
              "          dataTable['output_type'] = 'display_data';\n",
              "          await google.colab.output.renderOutput(dataTable, element);\n",
              "          const docLink = document.createElement('div');\n",
              "          docLink.innerHTML = docLinkHtml;\n",
              "          element.appendChild(docLink);\n",
              "        }\n",
              "      </script>\n",
              "    </div>\n",
              "  </div>\n",
              "  "
            ]
          },
          "metadata": {},
          "execution_count": 11
        }
      ]
    },
    {
      "cell_type": "markdown",
      "source": [
        "Next, simulate the experiment using the do operator.  Create two models, one that sets engagement to high, the other to low."
      ],
      "metadata": {
        "id": "7EsYyI796MDb"
      }
    },
    {
      "cell_type": "code",
      "source": [
        "int_engaged_model = pyro.do(    #A\n",
        "    model,    #A\n",
        "    {\"Side-quest Engagement\": tensor(1.)}    #A\n",
        ")    #A\n",
        "int_unengaged_model = pyro.do(    #B\n",
        "    model,    #B\n",
        "    {\"Side-quest Engagement\": tensor(0.)}    #B\n",
        ")    #B\n",
        "\n"
      ],
      "metadata": {
        "id": "GKFV3wrF7N2y"
      },
      "execution_count": 12,
      "outputs": []
    },
    {
      "cell_type": "markdown",
      "source": [
        "```\n",
        "#A An intervention that sets Side-quest Engagement to 1.0 (i.e \"high\").  This returns a new model.\n",
        "#B An intervention that sets Side-quest Engagement to 0.0 (i.e. \"low\").  This returns a new model.\n",
        "```"
      ],
      "metadata": {
        "id": "yYkmnqqD1QUL"
      }
    },
    {
      "cell_type": "markdown",
      "source": [
        "Simulate from both models and combine the results to get experimental data."
      ],
      "metadata": {
        "id": "-RiY7HfLT7A9"
      }
    },
    {
      "cell_type": "code",
      "source": [
        "pyro.util.set_rng_seed(123)    #A\n",
        "simulated_experimental_data = [    #B\n",
        "    int_engaged_model() for _ in range(500)    #B\n",
        "] + [    #B\n",
        "    int_unengaged_model() for _ in range(500)    #B\n",
        "]    #B\n",
        "simulated_experimental_data = pd.DataFrame(    #B\n",
        "    simulated_experimental_data,    #B\n",
        "    columns=[    #B\n",
        "        \"Guild Membership\", \"Side-quest Engagement\", \"In-Game Purchases\"    #B\n",
        "    ]    #B\n",
        ")    #B\n",
        "sim_exp_df = simulated_experimental_data.drop(\"Guild Membership\", axis=1)    #C\n",
        "summary = sim_exp_df.groupby(    #D\n",
        "        [\"Side-quest Engagement\"]    #D\n",
        "    ).agg(    #D\n",
        "        ['count', 'mean', np.std]    #D\n",
        "    )    #D\n",
        "print(summary)    #D"
      ],
      "metadata": {
        "id": "kWrPuirw1JIH",
        "colab": {
          "base_uri": "https://localhost:8080/"
        },
        "outputId": "dfe0a2dc-f6fb-448d-f4e5-bd7f5cfd9b79"
      },
      "execution_count": 13,
      "outputs": [
        {
          "output_type": "stream",
          "name": "stdout",
          "text": [
            "                      In-Game Purchases                       \n",
            "                                  count        mean        std\n",
            "Side-quest Engagement                                         \n",
            "high                                500   89.897309  52.696709\n",
            "low                                 500  126.222026  98.179060\n"
          ]
        }
      ]
    },
    {
      "cell_type": "markdown",
      "source": [
        "```\n",
        "#A Setting a random seed for reproducibility. \n",
        "#B Simulate 500 rows from each intervention model and combined them to create simulated experimental data.\n",
        "#C The simulated data will include a Guild Membership column.  We can drop it to get simulated data that looks like the original experiment.\n",
        "#D Recreate the statistical summaries of in-game purchase for each level of engagement.\n",
        "```"
      ],
      "metadata": {
        "id": "xrO5N9Jf4OpX"
      }
    },
    {
      "cell_type": "markdown",
      "source": [
        "Compare the results to the actual experimental data."
      ],
      "metadata": {
        "id": "QgkOiZ9sUBil"
      }
    },
    {
      "cell_type": "code",
      "source": [
        "exp_df = pd.read_csv(\"https://raw.githubusercontent.com/altdeep/causalML/master/datasets/sidequests_and_purchases_exp.csv\")\n",
        "\n",
        "summary = exp_df.groupby(\n",
        "        [\"Side-quest Engagement\"]\n",
        "    ).agg(\n",
        "        ['count', 'mean', np.std]\n",
        "    )\n",
        "print(summary)"
      ],
      "metadata": {
        "id": "gDqlZsK8BbkX",
        "colab": {
          "base_uri": "https://localhost:8080/"
        },
        "outputId": "9620589f-4e9c-496d-fdba-b4b14ca3ae39"
      },
      "execution_count": 14,
      "outputs": [
        {
          "output_type": "stream",
          "name": "stdout",
          "text": [
            "                      In-game Purchases                      \n",
            "                                  count       mean        std\n",
            "Side-quest Engagement                                        \n",
            "high                                500   92.99054  51.673631\n",
            "low                                 500  131.38228  94.840705\n"
          ]
        }
      ]
    }
  ]
}