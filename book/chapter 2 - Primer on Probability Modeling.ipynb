{
  "nbformat": 4,
  "nbformat_minor": 0,
  "metadata": {
    "colab": {
      "name": "chapter2 - Primer on Probability Modeling.ipynb",
      "provenance": []
    },
    "kernelspec": {
      "name": "python3",
      "display_name": "Python 3"
    },
    "language_info": {
      "name": "python"
    },
    "widgets": {
      "application/vnd.jupyter.widget-state+json": {
        "c1794c789c8446248466835f2b258d79": {
          "model_module": "@jupyter-widgets/controls",
          "model_name": "HBoxModel",
          "model_module_version": "1.5.0",
          "state": {
            "_dom_classes": [],
            "_model_module": "@jupyter-widgets/controls",
            "_model_module_version": "1.5.0",
            "_model_name": "HBoxModel",
            "_view_count": null,
            "_view_module": "@jupyter-widgets/controls",
            "_view_module_version": "1.5.0",
            "_view_name": "HBoxView",
            "box_style": "",
            "children": [
              "IPY_MODEL_ce995dba5d0048abb69d54db99c7f35f",
              "IPY_MODEL_9ea3a54d4ecd4ce3be21776de9ea05bc",
              "IPY_MODEL_cd7359dd366a42509ab582e301edf3e5"
            ],
            "layout": "IPY_MODEL_934f26d8b25f449da51361b311f8e717"
          }
        },
        "ce995dba5d0048abb69d54db99c7f35f": {
          "model_module": "@jupyter-widgets/controls",
          "model_name": "HTMLModel",
          "model_module_version": "1.5.0",
          "state": {
            "_dom_classes": [],
            "_model_module": "@jupyter-widgets/controls",
            "_model_module_version": "1.5.0",
            "_model_name": "HTMLModel",
            "_view_count": null,
            "_view_module": "@jupyter-widgets/controls",
            "_view_module_version": "1.5.0",
            "_view_name": "HTMLView",
            "description": "",
            "description_tooltip": null,
            "layout": "IPY_MODEL_eb5ea4ff98024866a13d134951342425",
            "placeholder": "​",
            "style": "IPY_MODEL_3de2f2ddd18b49adb564c20706e3349b",
            "value": "Generating for node: Y: 100%"
          }
        },
        "9ea3a54d4ecd4ce3be21776de9ea05bc": {
          "model_module": "@jupyter-widgets/controls",
          "model_name": "FloatProgressModel",
          "model_module_version": "1.5.0",
          "state": {
            "_dom_classes": [],
            "_model_module": "@jupyter-widgets/controls",
            "_model_module_version": "1.5.0",
            "_model_name": "FloatProgressModel",
            "_view_count": null,
            "_view_module": "@jupyter-widgets/controls",
            "_view_module_version": "1.5.0",
            "_view_name": "ProgressView",
            "bar_style": "success",
            "description": "",
            "description_tooltip": null,
            "layout": "IPY_MODEL_0cafc395f1f5498485504f5108a675d6",
            "max": 3,
            "min": 0,
            "orientation": "horizontal",
            "style": "IPY_MODEL_fb2c5210f36949bea72f0c0e839bcc72",
            "value": 3
          }
        },
        "cd7359dd366a42509ab582e301edf3e5": {
          "model_module": "@jupyter-widgets/controls",
          "model_name": "HTMLModel",
          "model_module_version": "1.5.0",
          "state": {
            "_dom_classes": [],
            "_model_module": "@jupyter-widgets/controls",
            "_model_module_version": "1.5.0",
            "_model_name": "HTMLModel",
            "_view_count": null,
            "_view_module": "@jupyter-widgets/controls",
            "_view_module_version": "1.5.0",
            "_view_name": "HTMLView",
            "description": "",
            "description_tooltip": null,
            "layout": "IPY_MODEL_50e95ecac4f04ea589d6c9d9bf59ea50",
            "placeholder": "​",
            "style": "IPY_MODEL_5406fc70054249d6ab34fca123327bd1",
            "value": " 3/3 [00:00&lt;00:00, 43.14it/s]"
          }
        },
        "934f26d8b25f449da51361b311f8e717": {
          "model_module": "@jupyter-widgets/base",
          "model_name": "LayoutModel",
          "model_module_version": "1.2.0",
          "state": {
            "_model_module": "@jupyter-widgets/base",
            "_model_module_version": "1.2.0",
            "_model_name": "LayoutModel",
            "_view_count": null,
            "_view_module": "@jupyter-widgets/base",
            "_view_module_version": "1.2.0",
            "_view_name": "LayoutView",
            "align_content": null,
            "align_items": null,
            "align_self": null,
            "border": null,
            "bottom": null,
            "display": null,
            "flex": null,
            "flex_flow": null,
            "grid_area": null,
            "grid_auto_columns": null,
            "grid_auto_flow": null,
            "grid_auto_rows": null,
            "grid_column": null,
            "grid_gap": null,
            "grid_row": null,
            "grid_template_areas": null,
            "grid_template_columns": null,
            "grid_template_rows": null,
            "height": null,
            "justify_content": null,
            "justify_items": null,
            "left": null,
            "margin": null,
            "max_height": null,
            "max_width": null,
            "min_height": null,
            "min_width": null,
            "object_fit": null,
            "object_position": null,
            "order": null,
            "overflow": null,
            "overflow_x": null,
            "overflow_y": null,
            "padding": null,
            "right": null,
            "top": null,
            "visibility": null,
            "width": null
          }
        },
        "eb5ea4ff98024866a13d134951342425": {
          "model_module": "@jupyter-widgets/base",
          "model_name": "LayoutModel",
          "model_module_version": "1.2.0",
          "state": {
            "_model_module": "@jupyter-widgets/base",
            "_model_module_version": "1.2.0",
            "_model_name": "LayoutModel",
            "_view_count": null,
            "_view_module": "@jupyter-widgets/base",
            "_view_module_version": "1.2.0",
            "_view_name": "LayoutView",
            "align_content": null,
            "align_items": null,
            "align_self": null,
            "border": null,
            "bottom": null,
            "display": null,
            "flex": null,
            "flex_flow": null,
            "grid_area": null,
            "grid_auto_columns": null,
            "grid_auto_flow": null,
            "grid_auto_rows": null,
            "grid_column": null,
            "grid_gap": null,
            "grid_row": null,
            "grid_template_areas": null,
            "grid_template_columns": null,
            "grid_template_rows": null,
            "height": null,
            "justify_content": null,
            "justify_items": null,
            "left": null,
            "margin": null,
            "max_height": null,
            "max_width": null,
            "min_height": null,
            "min_width": null,
            "object_fit": null,
            "object_position": null,
            "order": null,
            "overflow": null,
            "overflow_x": null,
            "overflow_y": null,
            "padding": null,
            "right": null,
            "top": null,
            "visibility": null,
            "width": null
          }
        },
        "3de2f2ddd18b49adb564c20706e3349b": {
          "model_module": "@jupyter-widgets/controls",
          "model_name": "DescriptionStyleModel",
          "model_module_version": "1.5.0",
          "state": {
            "_model_module": "@jupyter-widgets/controls",
            "_model_module_version": "1.5.0",
            "_model_name": "DescriptionStyleModel",
            "_view_count": null,
            "_view_module": "@jupyter-widgets/base",
            "_view_module_version": "1.2.0",
            "_view_name": "StyleView",
            "description_width": ""
          }
        },
        "0cafc395f1f5498485504f5108a675d6": {
          "model_module": "@jupyter-widgets/base",
          "model_name": "LayoutModel",
          "model_module_version": "1.2.0",
          "state": {
            "_model_module": "@jupyter-widgets/base",
            "_model_module_version": "1.2.0",
            "_model_name": "LayoutModel",
            "_view_count": null,
            "_view_module": "@jupyter-widgets/base",
            "_view_module_version": "1.2.0",
            "_view_name": "LayoutView",
            "align_content": null,
            "align_items": null,
            "align_self": null,
            "border": null,
            "bottom": null,
            "display": null,
            "flex": null,
            "flex_flow": null,
            "grid_area": null,
            "grid_auto_columns": null,
            "grid_auto_flow": null,
            "grid_auto_rows": null,
            "grid_column": null,
            "grid_gap": null,
            "grid_row": null,
            "grid_template_areas": null,
            "grid_template_columns": null,
            "grid_template_rows": null,
            "height": null,
            "justify_content": null,
            "justify_items": null,
            "left": null,
            "margin": null,
            "max_height": null,
            "max_width": null,
            "min_height": null,
            "min_width": null,
            "object_fit": null,
            "object_position": null,
            "order": null,
            "overflow": null,
            "overflow_x": null,
            "overflow_y": null,
            "padding": null,
            "right": null,
            "top": null,
            "visibility": null,
            "width": null
          }
        },
        "fb2c5210f36949bea72f0c0e839bcc72": {
          "model_module": "@jupyter-widgets/controls",
          "model_name": "ProgressStyleModel",
          "model_module_version": "1.5.0",
          "state": {
            "_model_module": "@jupyter-widgets/controls",
            "_model_module_version": "1.5.0",
            "_model_name": "ProgressStyleModel",
            "_view_count": null,
            "_view_module": "@jupyter-widgets/base",
            "_view_module_version": "1.2.0",
            "_view_name": "StyleView",
            "bar_color": null,
            "description_width": ""
          }
        },
        "50e95ecac4f04ea589d6c9d9bf59ea50": {
          "model_module": "@jupyter-widgets/base",
          "model_name": "LayoutModel",
          "model_module_version": "1.2.0",
          "state": {
            "_model_module": "@jupyter-widgets/base",
            "_model_module_version": "1.2.0",
            "_model_name": "LayoutModel",
            "_view_count": null,
            "_view_module": "@jupyter-widgets/base",
            "_view_module_version": "1.2.0",
            "_view_name": "LayoutView",
            "align_content": null,
            "align_items": null,
            "align_self": null,
            "border": null,
            "bottom": null,
            "display": null,
            "flex": null,
            "flex_flow": null,
            "grid_area": null,
            "grid_auto_columns": null,
            "grid_auto_flow": null,
            "grid_auto_rows": null,
            "grid_column": null,
            "grid_gap": null,
            "grid_row": null,
            "grid_template_areas": null,
            "grid_template_columns": null,
            "grid_template_rows": null,
            "height": null,
            "justify_content": null,
            "justify_items": null,
            "left": null,
            "margin": null,
            "max_height": null,
            "max_width": null,
            "min_height": null,
            "min_width": null,
            "object_fit": null,
            "object_position": null,
            "order": null,
            "overflow": null,
            "overflow_x": null,
            "overflow_y": null,
            "padding": null,
            "right": null,
            "top": null,
            "visibility": null,
            "width": null
          }
        },
        "5406fc70054249d6ab34fca123327bd1": {
          "model_module": "@jupyter-widgets/controls",
          "model_name": "DescriptionStyleModel",
          "model_module_version": "1.5.0",
          "state": {
            "_model_module": "@jupyter-widgets/controls",
            "_model_module_version": "1.5.0",
            "_model_name": "DescriptionStyleModel",
            "_view_count": null,
            "_view_module": "@jupyter-widgets/base",
            "_view_module_version": "1.2.0",
            "_view_name": "StyleView",
            "description_width": ""
          }
        },
        "b32d66b41af54ca5b927bc837d7dd205": {
          "model_module": "@jupyter-widgets/controls",
          "model_name": "HBoxModel",
          "model_module_version": "1.5.0",
          "state": {
            "_dom_classes": [],
            "_model_module": "@jupyter-widgets/controls",
            "_model_module_version": "1.5.0",
            "_model_name": "HBoxModel",
            "_view_count": null,
            "_view_module": "@jupyter-widgets/controls",
            "_view_module_version": "1.5.0",
            "_view_name": "HBoxView",
            "box_style": "",
            "children": [
              "IPY_MODEL_8d9ab45c15a3466a9455f96b2f3eb88e",
              "IPY_MODEL_09a1c1ec4c8c49b2b6d13a0563c44465",
              "IPY_MODEL_239a27be7ba1405dad4b484ffc7d59b4"
            ],
            "layout": "IPY_MODEL_4c07d5a8ad034845b5b7ed45523ee139"
          }
        },
        "8d9ab45c15a3466a9455f96b2f3eb88e": {
          "model_module": "@jupyter-widgets/controls",
          "model_name": "HTMLModel",
          "model_module_version": "1.5.0",
          "state": {
            "_dom_classes": [],
            "_model_module": "@jupyter-widgets/controls",
            "_model_module_version": "1.5.0",
            "_model_name": "HTMLModel",
            "_view_count": null,
            "_view_module": "@jupyter-widgets/controls",
            "_view_module_version": "1.5.0",
            "_view_name": "HTMLView",
            "description": "",
            "description_tooltip": null,
            "layout": "IPY_MODEL_a44caf34537f4ea2aa244b90ef49bab0",
            "placeholder": "​",
            "style": "IPY_MODEL_f119b183310e42729d68622466d3eec5",
            "value": "Generating for node: Y: 100%"
          }
        },
        "09a1c1ec4c8c49b2b6d13a0563c44465": {
          "model_module": "@jupyter-widgets/controls",
          "model_name": "FloatProgressModel",
          "model_module_version": "1.5.0",
          "state": {
            "_dom_classes": [],
            "_model_module": "@jupyter-widgets/controls",
            "_model_module_version": "1.5.0",
            "_model_name": "FloatProgressModel",
            "_view_count": null,
            "_view_module": "@jupyter-widgets/controls",
            "_view_module_version": "1.5.0",
            "_view_name": "ProgressView",
            "bar_style": "success",
            "description": "",
            "description_tooltip": null,
            "layout": "IPY_MODEL_d2692a2dcc804e758c6ea9a9d7548150",
            "max": 3,
            "min": 0,
            "orientation": "horizontal",
            "style": "IPY_MODEL_87498decc63a427aa89862a92a1e24d1",
            "value": 3
          }
        },
        "239a27be7ba1405dad4b484ffc7d59b4": {
          "model_module": "@jupyter-widgets/controls",
          "model_name": "HTMLModel",
          "model_module_version": "1.5.0",
          "state": {
            "_dom_classes": [],
            "_model_module": "@jupyter-widgets/controls",
            "_model_module_version": "1.5.0",
            "_model_name": "HTMLModel",
            "_view_count": null,
            "_view_module": "@jupyter-widgets/controls",
            "_view_module_version": "1.5.0",
            "_view_name": "HTMLView",
            "description": "",
            "description_tooltip": null,
            "layout": "IPY_MODEL_14df831d8317409f97e4c477b9f85ad7",
            "placeholder": "​",
            "style": "IPY_MODEL_68a7f2f83a1e40aca0d1070785d01be5",
            "value": " 3/3 [00:00&lt;00:00, 37.11it/s]"
          }
        },
        "4c07d5a8ad034845b5b7ed45523ee139": {
          "model_module": "@jupyter-widgets/base",
          "model_name": "LayoutModel",
          "model_module_version": "1.2.0",
          "state": {
            "_model_module": "@jupyter-widgets/base",
            "_model_module_version": "1.2.0",
            "_model_name": "LayoutModel",
            "_view_count": null,
            "_view_module": "@jupyter-widgets/base",
            "_view_module_version": "1.2.0",
            "_view_name": "LayoutView",
            "align_content": null,
            "align_items": null,
            "align_self": null,
            "border": null,
            "bottom": null,
            "display": null,
            "flex": null,
            "flex_flow": null,
            "grid_area": null,
            "grid_auto_columns": null,
            "grid_auto_flow": null,
            "grid_auto_rows": null,
            "grid_column": null,
            "grid_gap": null,
            "grid_row": null,
            "grid_template_areas": null,
            "grid_template_columns": null,
            "grid_template_rows": null,
            "height": null,
            "justify_content": null,
            "justify_items": null,
            "left": null,
            "margin": null,
            "max_height": null,
            "max_width": null,
            "min_height": null,
            "min_width": null,
            "object_fit": null,
            "object_position": null,
            "order": null,
            "overflow": null,
            "overflow_x": null,
            "overflow_y": null,
            "padding": null,
            "right": null,
            "top": null,
            "visibility": null,
            "width": null
          }
        },
        "a44caf34537f4ea2aa244b90ef49bab0": {
          "model_module": "@jupyter-widgets/base",
          "model_name": "LayoutModel",
          "model_module_version": "1.2.0",
          "state": {
            "_model_module": "@jupyter-widgets/base",
            "_model_module_version": "1.2.0",
            "_model_name": "LayoutModel",
            "_view_count": null,
            "_view_module": "@jupyter-widgets/base",
            "_view_module_version": "1.2.0",
            "_view_name": "LayoutView",
            "align_content": null,
            "align_items": null,
            "align_self": null,
            "border": null,
            "bottom": null,
            "display": null,
            "flex": null,
            "flex_flow": null,
            "grid_area": null,
            "grid_auto_columns": null,
            "grid_auto_flow": null,
            "grid_auto_rows": null,
            "grid_column": null,
            "grid_gap": null,
            "grid_row": null,
            "grid_template_areas": null,
            "grid_template_columns": null,
            "grid_template_rows": null,
            "height": null,
            "justify_content": null,
            "justify_items": null,
            "left": null,
            "margin": null,
            "max_height": null,
            "max_width": null,
            "min_height": null,
            "min_width": null,
            "object_fit": null,
            "object_position": null,
            "order": null,
            "overflow": null,
            "overflow_x": null,
            "overflow_y": null,
            "padding": null,
            "right": null,
            "top": null,
            "visibility": null,
            "width": null
          }
        },
        "f119b183310e42729d68622466d3eec5": {
          "model_module": "@jupyter-widgets/controls",
          "model_name": "DescriptionStyleModel",
          "model_module_version": "1.5.0",
          "state": {
            "_model_module": "@jupyter-widgets/controls",
            "_model_module_version": "1.5.0",
            "_model_name": "DescriptionStyleModel",
            "_view_count": null,
            "_view_module": "@jupyter-widgets/base",
            "_view_module_version": "1.2.0",
            "_view_name": "StyleView",
            "description_width": ""
          }
        },
        "d2692a2dcc804e758c6ea9a9d7548150": {
          "model_module": "@jupyter-widgets/base",
          "model_name": "LayoutModel",
          "model_module_version": "1.2.0",
          "state": {
            "_model_module": "@jupyter-widgets/base",
            "_model_module_version": "1.2.0",
            "_model_name": "LayoutModel",
            "_view_count": null,
            "_view_module": "@jupyter-widgets/base",
            "_view_module_version": "1.2.0",
            "_view_name": "LayoutView",
            "align_content": null,
            "align_items": null,
            "align_self": null,
            "border": null,
            "bottom": null,
            "display": null,
            "flex": null,
            "flex_flow": null,
            "grid_area": null,
            "grid_auto_columns": null,
            "grid_auto_flow": null,
            "grid_auto_rows": null,
            "grid_column": null,
            "grid_gap": null,
            "grid_row": null,
            "grid_template_areas": null,
            "grid_template_columns": null,
            "grid_template_rows": null,
            "height": null,
            "justify_content": null,
            "justify_items": null,
            "left": null,
            "margin": null,
            "max_height": null,
            "max_width": null,
            "min_height": null,
            "min_width": null,
            "object_fit": null,
            "object_position": null,
            "order": null,
            "overflow": null,
            "overflow_x": null,
            "overflow_y": null,
            "padding": null,
            "right": null,
            "top": null,
            "visibility": null,
            "width": null
          }
        },
        "87498decc63a427aa89862a92a1e24d1": {
          "model_module": "@jupyter-widgets/controls",
          "model_name": "ProgressStyleModel",
          "model_module_version": "1.5.0",
          "state": {
            "_model_module": "@jupyter-widgets/controls",
            "_model_module_version": "1.5.0",
            "_model_name": "ProgressStyleModel",
            "_view_count": null,
            "_view_module": "@jupyter-widgets/base",
            "_view_module_version": "1.2.0",
            "_view_name": "StyleView",
            "bar_color": null,
            "description_width": ""
          }
        },
        "14df831d8317409f97e4c477b9f85ad7": {
          "model_module": "@jupyter-widgets/base",
          "model_name": "LayoutModel",
          "model_module_version": "1.2.0",
          "state": {
            "_model_module": "@jupyter-widgets/base",
            "_model_module_version": "1.2.0",
            "_model_name": "LayoutModel",
            "_view_count": null,
            "_view_module": "@jupyter-widgets/base",
            "_view_module_version": "1.2.0",
            "_view_name": "LayoutView",
            "align_content": null,
            "align_items": null,
            "align_self": null,
            "border": null,
            "bottom": null,
            "display": null,
            "flex": null,
            "flex_flow": null,
            "grid_area": null,
            "grid_auto_columns": null,
            "grid_auto_flow": null,
            "grid_auto_rows": null,
            "grid_column": null,
            "grid_gap": null,
            "grid_row": null,
            "grid_template_areas": null,
            "grid_template_columns": null,
            "grid_template_rows": null,
            "height": null,
            "justify_content": null,
            "justify_items": null,
            "left": null,
            "margin": null,
            "max_height": null,
            "max_width": null,
            "min_height": null,
            "min_width": null,
            "object_fit": null,
            "object_position": null,
            "order": null,
            "overflow": null,
            "overflow_x": null,
            "overflow_y": null,
            "padding": null,
            "right": null,
            "top": null,
            "visibility": null,
            "width": null
          }
        },
        "68a7f2f83a1e40aca0d1070785d01be5": {
          "model_module": "@jupyter-widgets/controls",
          "model_name": "DescriptionStyleModel",
          "model_module_version": "1.5.0",
          "state": {
            "_model_module": "@jupyter-widgets/controls",
            "_model_module_version": "1.5.0",
            "_model_name": "DescriptionStyleModel",
            "_view_count": null,
            "_view_module": "@jupyter-widgets/base",
            "_view_module_version": "1.2.0",
            "_view_name": "StyleView",
            "description_width": ""
          }
        },
        "05b7f2e5e3c5412b8022498417e1fd5b": {
          "model_module": "@jupyter-widgets/controls",
          "model_name": "HBoxModel",
          "model_module_version": "1.5.0",
          "state": {
            "_dom_classes": [],
            "_model_module": "@jupyter-widgets/controls",
            "_model_module_version": "1.5.0",
            "_model_name": "HBoxModel",
            "_view_count": null,
            "_view_module": "@jupyter-widgets/controls",
            "_view_module_version": "1.5.0",
            "_view_name": "HBoxView",
            "box_style": "",
            "children": [
              "IPY_MODEL_f402d0bc5df547c18b8e8567d641b831",
              "IPY_MODEL_182afcdcad0c49e69c5d3e5d984eb802",
              "IPY_MODEL_e6c55e6e6b82455190e29aba6ede4d64"
            ],
            "layout": "IPY_MODEL_6d3ce006f91e40a6893eb2c0404879d3"
          }
        },
        "f402d0bc5df547c18b8e8567d641b831": {
          "model_module": "@jupyter-widgets/controls",
          "model_name": "HTMLModel",
          "model_module_version": "1.5.0",
          "state": {
            "_dom_classes": [],
            "_model_module": "@jupyter-widgets/controls",
            "_model_module_version": "1.5.0",
            "_model_name": "HTMLModel",
            "_view_count": null,
            "_view_module": "@jupyter-widgets/controls",
            "_view_module_version": "1.5.0",
            "_view_name": "HTMLView",
            "description": "",
            "description_tooltip": null,
            "layout": "IPY_MODEL_80d6e3d9f0a3401a9382c417f35acb3c",
            "placeholder": "​",
            "style": "IPY_MODEL_823f98d29af24aebad3ae46fe4b1652f",
            "value": "Generating for node: Y: 100%"
          }
        },
        "182afcdcad0c49e69c5d3e5d984eb802": {
          "model_module": "@jupyter-widgets/controls",
          "model_name": "FloatProgressModel",
          "model_module_version": "1.5.0",
          "state": {
            "_dom_classes": [],
            "_model_module": "@jupyter-widgets/controls",
            "_model_module_version": "1.5.0",
            "_model_name": "FloatProgressModel",
            "_view_count": null,
            "_view_module": "@jupyter-widgets/controls",
            "_view_module_version": "1.5.0",
            "_view_name": "ProgressView",
            "bar_style": "success",
            "description": "",
            "description_tooltip": null,
            "layout": "IPY_MODEL_0a234ead38114fc9afa9f681d3f7ed3d",
            "max": 3,
            "min": 0,
            "orientation": "horizontal",
            "style": "IPY_MODEL_0becbe1e1ed943cea82715058517bc91",
            "value": 3
          }
        },
        "e6c55e6e6b82455190e29aba6ede4d64": {
          "model_module": "@jupyter-widgets/controls",
          "model_name": "HTMLModel",
          "model_module_version": "1.5.0",
          "state": {
            "_dom_classes": [],
            "_model_module": "@jupyter-widgets/controls",
            "_model_module_version": "1.5.0",
            "_model_name": "HTMLModel",
            "_view_count": null,
            "_view_module": "@jupyter-widgets/controls",
            "_view_module_version": "1.5.0",
            "_view_name": "HTMLView",
            "description": "",
            "description_tooltip": null,
            "layout": "IPY_MODEL_d01ac39e2b96483f9e681ccabb219f3b",
            "placeholder": "​",
            "style": "IPY_MODEL_751af3cb410c49319b5348ac50c23962",
            "value": " 3/3 [00:00&lt;00:00, 30.76it/s]"
          }
        },
        "6d3ce006f91e40a6893eb2c0404879d3": {
          "model_module": "@jupyter-widgets/base",
          "model_name": "LayoutModel",
          "model_module_version": "1.2.0",
          "state": {
            "_model_module": "@jupyter-widgets/base",
            "_model_module_version": "1.2.0",
            "_model_name": "LayoutModel",
            "_view_count": null,
            "_view_module": "@jupyter-widgets/base",
            "_view_module_version": "1.2.0",
            "_view_name": "LayoutView",
            "align_content": null,
            "align_items": null,
            "align_self": null,
            "border": null,
            "bottom": null,
            "display": null,
            "flex": null,
            "flex_flow": null,
            "grid_area": null,
            "grid_auto_columns": null,
            "grid_auto_flow": null,
            "grid_auto_rows": null,
            "grid_column": null,
            "grid_gap": null,
            "grid_row": null,
            "grid_template_areas": null,
            "grid_template_columns": null,
            "grid_template_rows": null,
            "height": null,
            "justify_content": null,
            "justify_items": null,
            "left": null,
            "margin": null,
            "max_height": null,
            "max_width": null,
            "min_height": null,
            "min_width": null,
            "object_fit": null,
            "object_position": null,
            "order": null,
            "overflow": null,
            "overflow_x": null,
            "overflow_y": null,
            "padding": null,
            "right": null,
            "top": null,
            "visibility": null,
            "width": null
          }
        },
        "80d6e3d9f0a3401a9382c417f35acb3c": {
          "model_module": "@jupyter-widgets/base",
          "model_name": "LayoutModel",
          "model_module_version": "1.2.0",
          "state": {
            "_model_module": "@jupyter-widgets/base",
            "_model_module_version": "1.2.0",
            "_model_name": "LayoutModel",
            "_view_count": null,
            "_view_module": "@jupyter-widgets/base",
            "_view_module_version": "1.2.0",
            "_view_name": "LayoutView",
            "align_content": null,
            "align_items": null,
            "align_self": null,
            "border": null,
            "bottom": null,
            "display": null,
            "flex": null,
            "flex_flow": null,
            "grid_area": null,
            "grid_auto_columns": null,
            "grid_auto_flow": null,
            "grid_auto_rows": null,
            "grid_column": null,
            "grid_gap": null,
            "grid_row": null,
            "grid_template_areas": null,
            "grid_template_columns": null,
            "grid_template_rows": null,
            "height": null,
            "justify_content": null,
            "justify_items": null,
            "left": null,
            "margin": null,
            "max_height": null,
            "max_width": null,
            "min_height": null,
            "min_width": null,
            "object_fit": null,
            "object_position": null,
            "order": null,
            "overflow": null,
            "overflow_x": null,
            "overflow_y": null,
            "padding": null,
            "right": null,
            "top": null,
            "visibility": null,
            "width": null
          }
        },
        "823f98d29af24aebad3ae46fe4b1652f": {
          "model_module": "@jupyter-widgets/controls",
          "model_name": "DescriptionStyleModel",
          "model_module_version": "1.5.0",
          "state": {
            "_model_module": "@jupyter-widgets/controls",
            "_model_module_version": "1.5.0",
            "_model_name": "DescriptionStyleModel",
            "_view_count": null,
            "_view_module": "@jupyter-widgets/base",
            "_view_module_version": "1.2.0",
            "_view_name": "StyleView",
            "description_width": ""
          }
        },
        "0a234ead38114fc9afa9f681d3f7ed3d": {
          "model_module": "@jupyter-widgets/base",
          "model_name": "LayoutModel",
          "model_module_version": "1.2.0",
          "state": {
            "_model_module": "@jupyter-widgets/base",
            "_model_module_version": "1.2.0",
            "_model_name": "LayoutModel",
            "_view_count": null,
            "_view_module": "@jupyter-widgets/base",
            "_view_module_version": "1.2.0",
            "_view_name": "LayoutView",
            "align_content": null,
            "align_items": null,
            "align_self": null,
            "border": null,
            "bottom": null,
            "display": null,
            "flex": null,
            "flex_flow": null,
            "grid_area": null,
            "grid_auto_columns": null,
            "grid_auto_flow": null,
            "grid_auto_rows": null,
            "grid_column": null,
            "grid_gap": null,
            "grid_row": null,
            "grid_template_areas": null,
            "grid_template_columns": null,
            "grid_template_rows": null,
            "height": null,
            "justify_content": null,
            "justify_items": null,
            "left": null,
            "margin": null,
            "max_height": null,
            "max_width": null,
            "min_height": null,
            "min_width": null,
            "object_fit": null,
            "object_position": null,
            "order": null,
            "overflow": null,
            "overflow_x": null,
            "overflow_y": null,
            "padding": null,
            "right": null,
            "top": null,
            "visibility": null,
            "width": null
          }
        },
        "0becbe1e1ed943cea82715058517bc91": {
          "model_module": "@jupyter-widgets/controls",
          "model_name": "ProgressStyleModel",
          "model_module_version": "1.5.0",
          "state": {
            "_model_module": "@jupyter-widgets/controls",
            "_model_module_version": "1.5.0",
            "_model_name": "ProgressStyleModel",
            "_view_count": null,
            "_view_module": "@jupyter-widgets/base",
            "_view_module_version": "1.2.0",
            "_view_name": "StyleView",
            "bar_color": null,
            "description_width": ""
          }
        },
        "d01ac39e2b96483f9e681ccabb219f3b": {
          "model_module": "@jupyter-widgets/base",
          "model_name": "LayoutModel",
          "model_module_version": "1.2.0",
          "state": {
            "_model_module": "@jupyter-widgets/base",
            "_model_module_version": "1.2.0",
            "_model_name": "LayoutModel",
            "_view_count": null,
            "_view_module": "@jupyter-widgets/base",
            "_view_module_version": "1.2.0",
            "_view_name": "LayoutView",
            "align_content": null,
            "align_items": null,
            "align_self": null,
            "border": null,
            "bottom": null,
            "display": null,
            "flex": null,
            "flex_flow": null,
            "grid_area": null,
            "grid_auto_columns": null,
            "grid_auto_flow": null,
            "grid_auto_rows": null,
            "grid_column": null,
            "grid_gap": null,
            "grid_row": null,
            "grid_template_areas": null,
            "grid_template_columns": null,
            "grid_template_rows": null,
            "height": null,
            "justify_content": null,
            "justify_items": null,
            "left": null,
            "margin": null,
            "max_height": null,
            "max_width": null,
            "min_height": null,
            "min_width": null,
            "object_fit": null,
            "object_position": null,
            "order": null,
            "overflow": null,
            "overflow_x": null,
            "overflow_y": null,
            "padding": null,
            "right": null,
            "top": null,
            "visibility": null,
            "width": null
          }
        },
        "751af3cb410c49319b5348ac50c23962": {
          "model_module": "@jupyter-widgets/controls",
          "model_name": "DescriptionStyleModel",
          "model_module_version": "1.5.0",
          "state": {
            "_model_module": "@jupyter-widgets/controls",
            "_model_module_version": "1.5.0",
            "_model_name": "DescriptionStyleModel",
            "_view_count": null,
            "_view_module": "@jupyter-widgets/base",
            "_view_module_version": "1.2.0",
            "_view_name": "StyleView",
            "description_width": ""
          }
        }
      }
    }
  },
  "cells": [
    {
      "cell_type": "markdown",
      "source": [
        "# Implementing a discrete distribution table in pgmpy\n"
      ],
      "metadata": {
        "id": "0E34xvN8et9z"
      }
    },
    {
      "cell_type": "code",
      "source": [
        "import pgmpy\n",
        "from pgmpy.factors.discrete import DiscreteFactor\n",
        "dist = DiscreteFactor(\n",
        "    variables=[\"X\"],    #A\n",
        "    cardinality=[3],    #B\n",
        "    values=[.45, .30, .25],    #C\n",
        "    state_names= {'X': ['1', '2', '3']}    #D\n",
        ")\n",
        "\n",
        "#A A list of the names of the variables in the factor\n",
        "#B The cardinality (number of possible outcomes of each variable in the factor\n",
        "#C The values each variable in the factor can take\n",
        "#D Dictionary where the key is the variable name and the value is a list of the names of that variable’s outcomes\n",
        "\n",
        "print(dist)"
      ],
      "metadata": {
        "colab": {
          "base_uri": "https://localhost:8080/"
        },
        "id": "qzPPspx4eufQ",
        "outputId": "fd39a321-a224-4306-cf9f-7ee1fa74944a"
      },
      "execution_count": 2,
      "outputs": [
        {
          "output_type": "stream",
          "name": "stdout",
          "text": [
            "+------+----------+\n",
            "| X    |   phi(X) |\n",
            "+======+==========+\n",
            "| X(1) |   0.4500 |\n",
            "+------+----------+\n",
            "| X(2) |   0.3000 |\n",
            "+------+----------+\n",
            "| X(3) |   0.2500 |\n",
            "+------+----------+\n"
          ]
        }
      ]
    },
    {
      "cell_type": "markdown",
      "source": [
        "“phi(X)” is the probability value assigned to each outcome of X.  One thing to note is that these phi values don’t need to sum to one.  For example, I can multiple each probability value by one hundred as follows."
      ],
      "metadata": {
        "id": "A-D3GoX4fN52"
      }
    },
    {
      "cell_type": "code",
      "source": [
        "dist = DiscreteFactor(\n",
        "    variables=[\"X\"],\n",
        "    cardinality=[3],\n",
        "    values=[45, 30, 25],\n",
        "    state_names= {'X': ['1', '2', '3']}\n",
        ")\n",
        "\n",
        "print(dist)"
      ],
      "metadata": {
        "colab": {
          "base_uri": "https://localhost:8080/"
        },
        "id": "G8bwqFF2fDYb",
        "outputId": "4dc84624-cdca-4104-fe9e-25561f2e6992"
      },
      "execution_count": 3,
      "outputs": [
        {
          "output_type": "stream",
          "name": "stdout",
          "text": [
            "+------+----------+\n",
            "| X    |   phi(X) |\n",
            "+======+==========+\n",
            "| X(1) |  45.0000 |\n",
            "+------+----------+\n",
            "| X(2) |  30.0000 |\n",
            "+------+----------+\n",
            "| X(3) |  25.0000 |\n",
            "+------+----------+\n"
          ]
        }
      ]
    },
    {
      "cell_type": "markdown",
      "source": [
        "pgmpy relaxes the constraint to sum to one is because the relaxation is useful in some algorithms.  We can always normalize to obtain proper probability values. "
      ],
      "metadata": {
        "id": "tdAVY-hpfa_N"
      }
    },
    {
      "cell_type": "code",
      "source": [
        "# Normalize takes phi values for each outcome and divides them by their sum to get a probability. \n",
        "dist.normalize()\n",
        "\n",
        "print(dist)"
      ],
      "metadata": {
        "colab": {
          "base_uri": "https://localhost:8080/"
        },
        "id": "gA1aBQajfZk7",
        "outputId": "8301b6df-0fc1-400f-88bc-82e385d85253"
      },
      "execution_count": 4,
      "outputs": [
        {
          "output_type": "stream",
          "name": "stdout",
          "text": [
            "+------+----------+\n",
            "| X    |   phi(X) |\n",
            "+======+==========+\n",
            "| X(1) |   0.4500 |\n",
            "+------+----------+\n",
            "| X(2) |   0.3000 |\n",
            "+------+----------+\n",
            "| X(3) |   0.2500 |\n",
            "+------+----------+\n"
          ]
        }
      ]
    },
    {
      "cell_type": "markdown",
      "source": [
        "# Modeling a joint distribution in pgmpy"
      ],
      "metadata": {
        "id": "HDS9Juwtf6tY"
      }
    },
    {
      "cell_type": "code",
      "source": [
        "joint = DiscreteFactor(\n",
        "    variables=['X', 'Y'],   #A\n",
        "    cardinality=[3, 2],    #B\n",
        "    values=[.25, .20, .20, .10, .15, .10],   #C \n",
        "    state_names= {    \n",
        "        'X': ['1', '2', '3'],    #C\n",
        "        'Y': ['0', '1']    #C\n",
        "    }\n",
        ")\n",
        "\n",
        "#A Now we have two variables instead of one.\n",
        "#B X has 3 outcomes, Y has 2.\n",
        "#C You can look at the printed output to see how the values are ordered of values.\n",
        "#D Now there are two variables, so we name the outcomes for both variables.\n",
        "\n",
        "print(joint)"
      ],
      "metadata": {
        "colab": {
          "base_uri": "https://localhost:8080/"
        },
        "id": "TXRN08jSfqCl",
        "outputId": "4e9260a7-010e-473c-ff3a-b9bb8f9e283c"
      },
      "execution_count": 5,
      "outputs": [
        {
          "output_type": "stream",
          "name": "stdout",
          "text": [
            "+------+------+------------+\n",
            "| X    | Y    |   phi(X,Y) |\n",
            "+======+======+============+\n",
            "| X(1) | Y(0) |     0.2500 |\n",
            "+------+------+------------+\n",
            "| X(1) | Y(1) |     0.2000 |\n",
            "+------+------+------------+\n",
            "| X(2) | Y(0) |     0.2000 |\n",
            "+------+------+------------+\n",
            "| X(2) | Y(1) |     0.1000 |\n",
            "+------+------+------------+\n",
            "| X(3) | Y(0) |     0.1500 |\n",
            "+------+------+------------+\n",
            "| X(3) | Y(1) |     0.1000 |\n",
            "+------+------+------------+\n"
          ]
        }
      ]
    },
    {
      "cell_type": "markdown",
      "source": [
        "The marginalize method will accomplish summing over the specified variables for us.\n"
      ],
      "metadata": {
        "id": "LmU5Mf5mgO-H"
      }
    },
    {
      "cell_type": "code",
      "source": [
        "print(joint.marginalize(variables=['Y'], inplace=False))\n",
        "print(joint.marginalize(variables=['X'], inplace=False))"
      ],
      "metadata": {
        "colab": {
          "base_uri": "https://localhost:8080/"
        },
        "id": "5FQ1-LtqhoRq",
        "outputId": "3b4ae62c-65a8-4c0b-ed97-5a1a8826ad85"
      },
      "execution_count": 6,
      "outputs": [
        {
          "output_type": "stream",
          "name": "stdout",
          "text": [
            "+------+----------+\n",
            "| X    |   phi(X) |\n",
            "+======+==========+\n",
            "| X(1) |   0.4500 |\n",
            "+------+----------+\n",
            "| X(2) |   0.3000 |\n",
            "+------+----------+\n",
            "| X(3) |   0.2500 |\n",
            "+------+----------+\n",
            "+------+----------+\n",
            "| Y    |   phi(Y) |\n",
            "+======+==========+\n",
            "| Y(0) |   0.6000 |\n",
            "+------+----------+\n",
            "| Y(1) |   0.4000 |\n",
            "+------+----------+\n"
          ]
        }
      ]
    },
    {
      "cell_type": "markdown",
      "source": [
        "We can divide two factors to calculate conditional probabilities."
      ],
      "metadata": {
        "id": "3DQjnxI9ZFaZ"
      }
    },
    {
      "cell_type": "code",
      "source": [
        "print(joint / dist)"
      ],
      "metadata": {
        "colab": {
          "base_uri": "https://localhost:8080/"
        },
        "id": "6pHGwacShqn7",
        "outputId": "3dc1ac99-1072-45fc-d9b1-625e969574ba"
      },
      "execution_count": 7,
      "outputs": [
        {
          "output_type": "stream",
          "name": "stdout",
          "text": [
            "+------+------+------------+\n",
            "| X    | Y    |   phi(X,Y) |\n",
            "+======+======+============+\n",
            "| X(1) | Y(0) |     0.5556 |\n",
            "+------+------+------------+\n",
            "| X(1) | Y(1) |     0.4444 |\n",
            "+------+------+------------+\n",
            "| X(2) | Y(0) |     0.6667 |\n",
            "+------+------+------------+\n",
            "| X(2) | Y(1) |     0.3333 |\n",
            "+------+------+------------+\n",
            "| X(3) | Y(0) |     0.6000 |\n",
            "+------+------+------------+\n",
            "| X(3) | Y(1) |     0.4000 |\n",
            "+------+------+------------+\n"
          ]
        }
      ]
    },
    {
      "cell_type": "markdown",
      "source": [
        "However, the more direct way in pgmpy to specify a conditional probability distribution table is with the TabularCPD class:"
      ],
      "metadata": {
        "id": "lNje9Z9IZBY2"
      }
    },
    {
      "cell_type": "code",
      "source": [
        "from pgmpy.factors.discrete.CPD import TabularCPD\n",
        "PYgivenX = TabularCPD(\n",
        "    variable='Y',    #A\n",
        "    variable_card=2,    #B\n",
        "    values=[\n",
        "        [.25/.45, .20/.30, .15/.25],    #C\n",
        "        [.20/.45, .10/.30, .10/.25],    #C\n",
        "    ], \n",
        "    evidence=['X'],\n",
        "    evidence_card=[3],\n",
        "    state_names = {\n",
        "        'X': ['1', '2', '3'],\n",
        "        'Y': ['0', '1']\n",
        "    })\n",
        "\n",
        "#A Conditional distribution has one variable instead of DiscreteFactor’s list of variables.\n",
        "#B variable_card is the cardinality of Y\n",
        "#C Elements of the list correspond to outcomes for Y. Elements of each list correspond to elements of X.\n",
        "\n",
        "print(PYgivenX)"
      ],
      "metadata": {
        "colab": {
          "base_uri": "https://localhost:8080/"
        },
        "id": "4eUC_8dBZPCW",
        "outputId": "9584da76-fb1a-438e-ba0d-18be80b7f8b6"
      },
      "execution_count": 8,
      "outputs": [
        {
          "output_type": "stream",
          "name": "stdout",
          "text": [
            "+------+--------------------+---------------------+------+\n",
            "| X    | X(1)               | X(2)                | X(3) |\n",
            "+------+--------------------+---------------------+------+\n",
            "| Y(0) | 0.5555555555555556 | 0.6666666666666667  | 0.6  |\n",
            "+------+--------------------+---------------------+------+\n",
            "| Y(1) | 0.4444444444444445 | 0.33333333333333337 | 0.4  |\n",
            "+------+--------------------+---------------------+------+\n"
          ]
        }
      ]
    },
    {
      "cell_type": "markdown",
      "source": [
        "# Canonical parameters in Pyro"
      ],
      "metadata": {
        "id": "FyDHZZDFZy80"
      }
    },
    {
      "cell_type": "code",
      "source": [
        "import torch\n",
        "from pyro.distributions import Bernoulli, Categorical, Gamma, Normal\n",
        "\n",
        "# The categorical distribution takes a list of probability values, each value corresponding to an outcome.\n",
        "print(Categorical(probs=torch.tensor([.45, .30, .25])))\n",
        "print(Normal(loc=0.0, scale=1.0))\n",
        "print(Bernoulli(probs=0.4))\n",
        "print(Gamma(concentration=1.0, rate=2.0))\n",
        "\n",
        "bern = Bernoulli(0.4)\n",
        "lprob = bern.log_prob(torch.tensor(1.0))\n",
        "\n",
        "import math\n",
        "print(math.exp(lprob))\n"
      ],
      "metadata": {
        "colab": {
          "base_uri": "https://localhost:8080/"
        },
        "id": "UG_fOPwiZokM",
        "outputId": "eb7b250e-f2e8-470b-ac1b-e8825dc50660"
      },
      "execution_count": 9,
      "outputs": [
        {
          "output_type": "stream",
          "name": "stdout",
          "text": [
            "Categorical(probs: torch.Size([3]))\n",
            "Normal(loc: 0.0, scale: 1.0)\n",
            "Bernoulli(probs: 0.4000000059604645)\n",
            "Gamma(concentration: 1.0, rate: 2.0)\n",
            "0.3999999887335489\n"
          ]
        }
      ]
    },
    {
      "cell_type": "markdown",
      "source": [
        "# Simulating from DiscreteFactor in pgmpy and Pyro"
      ],
      "metadata": {
        "id": "4sKd5PbLbvtu"
      }
    },
    {
      "cell_type": "code",
      "source": [
        "from pgmpy.factors.discrete import DiscreteFactor\n",
        "dist = DiscreteFactor(\n",
        "    variables=[\"X\"],\n",
        "    cardinality=[3],\n",
        "    values=[.45, .30, .25],\n",
        "    state_names= {'X': ['1', '2', '3']}\n",
        ")\n",
        "\n",
        "# n is the number of instances you wish to generate\n",
        "dist.sample(n=1)\n"
      ],
      "metadata": {
        "colab": {
          "base_uri": "https://localhost:8080/",
          "height": 81
        },
        "id": "lOqDNVM8buUH",
        "outputId": "34fd07cd-cfb9-4573-c061-b407698846ec"
      },
      "execution_count": 10,
      "outputs": [
        {
          "output_type": "execute_result",
          "data": {
            "text/plain": [
              "   X\n",
              "0  1"
            ],
            "text/html": [
              "\n",
              "  <div id=\"df-cfe76a81-f0f1-4b74-8fb4-5b34b41b698e\">\n",
              "    <div class=\"colab-df-container\">\n",
              "      <div>\n",
              "<style scoped>\n",
              "    .dataframe tbody tr th:only-of-type {\n",
              "        vertical-align: middle;\n",
              "    }\n",
              "\n",
              "    .dataframe tbody tr th {\n",
              "        vertical-align: top;\n",
              "    }\n",
              "\n",
              "    .dataframe thead th {\n",
              "        text-align: right;\n",
              "    }\n",
              "</style>\n",
              "<table border=\"1\" class=\"dataframe\">\n",
              "  <thead>\n",
              "    <tr style=\"text-align: right;\">\n",
              "      <th></th>\n",
              "      <th>X</th>\n",
              "    </tr>\n",
              "  </thead>\n",
              "  <tbody>\n",
              "    <tr>\n",
              "      <th>0</th>\n",
              "      <td>1</td>\n",
              "    </tr>\n",
              "  </tbody>\n",
              "</table>\n",
              "</div>\n",
              "      <button class=\"colab-df-convert\" onclick=\"convertToInteractive('df-cfe76a81-f0f1-4b74-8fb4-5b34b41b698e')\"\n",
              "              title=\"Convert this dataframe to an interactive table.\"\n",
              "              style=\"display:none;\">\n",
              "        \n",
              "  <svg xmlns=\"http://www.w3.org/2000/svg\" height=\"24px\"viewBox=\"0 0 24 24\"\n",
              "       width=\"24px\">\n",
              "    <path d=\"M0 0h24v24H0V0z\" fill=\"none\"/>\n",
              "    <path d=\"M18.56 5.44l.94 2.06.94-2.06 2.06-.94-2.06-.94-.94-2.06-.94 2.06-2.06.94zm-11 1L8.5 8.5l.94-2.06 2.06-.94-2.06-.94L8.5 2.5l-.94 2.06-2.06.94zm10 10l.94 2.06.94-2.06 2.06-.94-2.06-.94-.94-2.06-.94 2.06-2.06.94z\"/><path d=\"M17.41 7.96l-1.37-1.37c-.4-.4-.92-.59-1.43-.59-.52 0-1.04.2-1.43.59L10.3 9.45l-7.72 7.72c-.78.78-.78 2.05 0 2.83L4 21.41c.39.39.9.59 1.41.59.51 0 1.02-.2 1.41-.59l7.78-7.78 2.81-2.81c.8-.78.8-2.07 0-2.86zM5.41 20L4 18.59l7.72-7.72 1.47 1.35L5.41 20z\"/>\n",
              "  </svg>\n",
              "      </button>\n",
              "      \n",
              "  <style>\n",
              "    .colab-df-container {\n",
              "      display:flex;\n",
              "      flex-wrap:wrap;\n",
              "      gap: 12px;\n",
              "    }\n",
              "\n",
              "    .colab-df-convert {\n",
              "      background-color: #E8F0FE;\n",
              "      border: none;\n",
              "      border-radius: 50%;\n",
              "      cursor: pointer;\n",
              "      display: none;\n",
              "      fill: #1967D2;\n",
              "      height: 32px;\n",
              "      padding: 0 0 0 0;\n",
              "      width: 32px;\n",
              "    }\n",
              "\n",
              "    .colab-df-convert:hover {\n",
              "      background-color: #E2EBFA;\n",
              "      box-shadow: 0px 1px 2px rgba(60, 64, 67, 0.3), 0px 1px 3px 1px rgba(60, 64, 67, 0.15);\n",
              "      fill: #174EA6;\n",
              "    }\n",
              "\n",
              "    [theme=dark] .colab-df-convert {\n",
              "      background-color: #3B4455;\n",
              "      fill: #D2E3FC;\n",
              "    }\n",
              "\n",
              "    [theme=dark] .colab-df-convert:hover {\n",
              "      background-color: #434B5C;\n",
              "      box-shadow: 0px 1px 3px 1px rgba(0, 0, 0, 0.15);\n",
              "      filter: drop-shadow(0px 1px 2px rgba(0, 0, 0, 0.3));\n",
              "      fill: #FFFFFF;\n",
              "    }\n",
              "  </style>\n",
              "\n",
              "      <script>\n",
              "        const buttonEl =\n",
              "          document.querySelector('#df-cfe76a81-f0f1-4b74-8fb4-5b34b41b698e button.colab-df-convert');\n",
              "        buttonEl.style.display =\n",
              "          google.colab.kernel.accessAllowed ? 'block' : 'none';\n",
              "\n",
              "        async function convertToInteractive(key) {\n",
              "          const element = document.querySelector('#df-cfe76a81-f0f1-4b74-8fb4-5b34b41b698e');\n",
              "          const dataTable =\n",
              "            await google.colab.kernel.invokeFunction('convertToInteractive',\n",
              "                                                     [key], {});\n",
              "          if (!dataTable) return;\n",
              "\n",
              "          const docLinkHtml = 'Like what you see? Visit the ' +\n",
              "            '<a target=\"_blank\" href=https://colab.research.google.com/notebooks/data_table.ipynb>data table notebook</a>'\n",
              "            + ' to learn more about interactive tables.';\n",
              "          element.innerHTML = '';\n",
              "          dataTable['output_type'] = 'display_data';\n",
              "          await google.colab.output.renderOutput(dataTable, element);\n",
              "          const docLink = document.createElement('div');\n",
              "          docLink.innerHTML = docLinkHtml;\n",
              "          element.appendChild(docLink);\n",
              "        }\n",
              "      </script>\n",
              "    </div>\n",
              "  </div>\n",
              "  "
            ]
          },
          "metadata": {},
          "execution_count": 10
        }
      ]
    },
    {
      "cell_type": "code",
      "source": [
        "joint = DiscreteFactor(\n",
        "    variables=['X', 'Y'],\n",
        "    cardinality=[3, 2],\n",
        "    values=[.25, .20, .20, .10, .15, .10],\n",
        "    state_names= {\n",
        "        'X': ['1', '2', '3'],\n",
        "        'Y': ['0', '1']\n",
        "    }\n",
        ")\n",
        "\n",
        "joint.sample(n=1)\n"
      ],
      "metadata": {
        "colab": {
          "base_uri": "https://localhost:8080/",
          "height": 81
        },
        "id": "3gFe94BJb904",
        "outputId": "2108543b-6d39-4627-8822-1fc6397d149c"
      },
      "execution_count": 11,
      "outputs": [
        {
          "output_type": "execute_result",
          "data": {
            "text/plain": [
              "   X  Y\n",
              "0  3  1"
            ],
            "text/html": [
              "\n",
              "  <div id=\"df-333ba08e-923a-4afc-a753-6e67577e8cbb\">\n",
              "    <div class=\"colab-df-container\">\n",
              "      <div>\n",
              "<style scoped>\n",
              "    .dataframe tbody tr th:only-of-type {\n",
              "        vertical-align: middle;\n",
              "    }\n",
              "\n",
              "    .dataframe tbody tr th {\n",
              "        vertical-align: top;\n",
              "    }\n",
              "\n",
              "    .dataframe thead th {\n",
              "        text-align: right;\n",
              "    }\n",
              "</style>\n",
              "<table border=\"1\" class=\"dataframe\">\n",
              "  <thead>\n",
              "    <tr style=\"text-align: right;\">\n",
              "      <th></th>\n",
              "      <th>X</th>\n",
              "      <th>Y</th>\n",
              "    </tr>\n",
              "  </thead>\n",
              "  <tbody>\n",
              "    <tr>\n",
              "      <th>0</th>\n",
              "      <td>3</td>\n",
              "      <td>1</td>\n",
              "    </tr>\n",
              "  </tbody>\n",
              "</table>\n",
              "</div>\n",
              "      <button class=\"colab-df-convert\" onclick=\"convertToInteractive('df-333ba08e-923a-4afc-a753-6e67577e8cbb')\"\n",
              "              title=\"Convert this dataframe to an interactive table.\"\n",
              "              style=\"display:none;\">\n",
              "        \n",
              "  <svg xmlns=\"http://www.w3.org/2000/svg\" height=\"24px\"viewBox=\"0 0 24 24\"\n",
              "       width=\"24px\">\n",
              "    <path d=\"M0 0h24v24H0V0z\" fill=\"none\"/>\n",
              "    <path d=\"M18.56 5.44l.94 2.06.94-2.06 2.06-.94-2.06-.94-.94-2.06-.94 2.06-2.06.94zm-11 1L8.5 8.5l.94-2.06 2.06-.94-2.06-.94L8.5 2.5l-.94 2.06-2.06.94zm10 10l.94 2.06.94-2.06 2.06-.94-2.06-.94-.94-2.06-.94 2.06-2.06.94z\"/><path d=\"M17.41 7.96l-1.37-1.37c-.4-.4-.92-.59-1.43-.59-.52 0-1.04.2-1.43.59L10.3 9.45l-7.72 7.72c-.78.78-.78 2.05 0 2.83L4 21.41c.39.39.9.59 1.41.59.51 0 1.02-.2 1.41-.59l7.78-7.78 2.81-2.81c.8-.78.8-2.07 0-2.86zM5.41 20L4 18.59l7.72-7.72 1.47 1.35L5.41 20z\"/>\n",
              "  </svg>\n",
              "      </button>\n",
              "      \n",
              "  <style>\n",
              "    .colab-df-container {\n",
              "      display:flex;\n",
              "      flex-wrap:wrap;\n",
              "      gap: 12px;\n",
              "    }\n",
              "\n",
              "    .colab-df-convert {\n",
              "      background-color: #E8F0FE;\n",
              "      border: none;\n",
              "      border-radius: 50%;\n",
              "      cursor: pointer;\n",
              "      display: none;\n",
              "      fill: #1967D2;\n",
              "      height: 32px;\n",
              "      padding: 0 0 0 0;\n",
              "      width: 32px;\n",
              "    }\n",
              "\n",
              "    .colab-df-convert:hover {\n",
              "      background-color: #E2EBFA;\n",
              "      box-shadow: 0px 1px 2px rgba(60, 64, 67, 0.3), 0px 1px 3px 1px rgba(60, 64, 67, 0.15);\n",
              "      fill: #174EA6;\n",
              "    }\n",
              "\n",
              "    [theme=dark] .colab-df-convert {\n",
              "      background-color: #3B4455;\n",
              "      fill: #D2E3FC;\n",
              "    }\n",
              "\n",
              "    [theme=dark] .colab-df-convert:hover {\n",
              "      background-color: #434B5C;\n",
              "      box-shadow: 0px 1px 3px 1px rgba(0, 0, 0, 0.15);\n",
              "      filter: drop-shadow(0px 1px 2px rgba(0, 0, 0, 0.3));\n",
              "      fill: #FFFFFF;\n",
              "    }\n",
              "  </style>\n",
              "\n",
              "      <script>\n",
              "        const buttonEl =\n",
              "          document.querySelector('#df-333ba08e-923a-4afc-a753-6e67577e8cbb button.colab-df-convert');\n",
              "        buttonEl.style.display =\n",
              "          google.colab.kernel.accessAllowed ? 'block' : 'none';\n",
              "\n",
              "        async function convertToInteractive(key) {\n",
              "          const element = document.querySelector('#df-333ba08e-923a-4afc-a753-6e67577e8cbb');\n",
              "          const dataTable =\n",
              "            await google.colab.kernel.invokeFunction('convertToInteractive',\n",
              "                                                     [key], {});\n",
              "          if (!dataTable) return;\n",
              "\n",
              "          const docLinkHtml = 'Like what you see? Visit the ' +\n",
              "            '<a target=\"_blank\" href=https://colab.research.google.com/notebooks/data_table.ipynb>data table notebook</a>'\n",
              "            + ' to learn more about interactive tables.';\n",
              "          element.innerHTML = '';\n",
              "          dataTable['output_type'] = 'display_data';\n",
              "          await google.colab.output.renderOutput(dataTable, element);\n",
              "          const docLink = document.createElement('div');\n",
              "          docLink.innerHTML = docLinkHtml;\n",
              "          element.appendChild(docLink);\n",
              "        }\n",
              "      </script>\n",
              "    </div>\n",
              "  </div>\n",
              "  "
            ]
          },
          "metadata": {},
          "execution_count": 11
        }
      ]
    },
    {
      "cell_type": "markdown",
      "source": [
        "Canonical distributions in pyro also use a method with sample method."
      ],
      "metadata": {
        "id": "jL-oWJuRcNFI"
      }
    },
    {
      "cell_type": "code",
      "source": [
        "import torch\n",
        "from pyro.distributions import Categorical\n",
        "Categorical(probs=torch.tensor([.45, .30, .25])).sample()\n"
      ],
      "metadata": {
        "colab": {
          "base_uri": "https://localhost:8080/"
        },
        "id": "LvvQ_jv1cJLZ",
        "outputId": "e483f692-a90b-4d05-fe10-83cf32f831d6"
      },
      "execution_count": 12,
      "outputs": [
        {
          "output_type": "execute_result",
          "data": {
            "text/plain": [
              "tensor(1)"
            ]
          },
          "metadata": {},
          "execution_count": 12
        }
      ]
    },
    {
      "cell_type": "markdown",
      "source": [
        "# Creating a random process in pgmpy and pyro."
      ],
      "metadata": {
        "id": "MtP49-FcdZ0G"
      }
    },
    {
      "cell_type": "code",
      "source": [
        "from pgmpy.factors.discrete.CPD import TabularCPD\n",
        "from pgmpy.models import BayesianNetwork\n",
        "from pgmpy.sampling import BayesianModelSampling\n",
        "\n",
        "PZ = TabularCPD(\n",
        "    variable='Z', \n",
        "    variable_card=2,\n",
        "    values=[[.65], [.35]],\n",
        "    state_names = {\n",
        "        'Z': ['0', '1']\n",
        "    })\n",
        "\n",
        "PXgivenZ = TabularCPD(\n",
        "    variable='X',\n",
        "    variable_card=2,\n",
        "    values=[\n",
        "        [.8, .6],\n",
        "        [.2, .4],\n",
        "    ],\n",
        "    evidence=['Z'],\n",
        "    evidence_card=[2],\n",
        "    state_names = {\n",
        "        'X': ['0', '1'],\n",
        "        'Z': ['0', '1']\n",
        "    })\n",
        "\n",
        "PYgivenX = TabularCPD(\n",
        "    variable='Y',\n",
        "    variable_card=3,\n",
        "    values=[\n",
        "        [.1, .8],\n",
        "        [.2, .1],\n",
        "        [.7, .1],\n",
        "    ],\n",
        "    evidence=['X'],\n",
        "    evidence_card=[2],\n",
        "    state_names = {\n",
        "        'Y': ['1', '2', '3'],\n",
        "        'X': ['0', '1']\n",
        "    })\n",
        "\n",
        "model = BayesianNetwork([('Z', 'X'), ('X', 'Y')])    #D\n",
        "model.add_cpds(PZ, PXgivenZ, PYgivenX)\n",
        "\n",
        "generator = BayesianModelSampling(model)    #F\n",
        "generator.forward_sample(size=1)\n"
      ],
      "metadata": {
        "colab": {
          "base_uri": "https://localhost:8080/",
          "height": 113,
          "referenced_widgets": [
            "c1794c789c8446248466835f2b258d79",
            "ce995dba5d0048abb69d54db99c7f35f",
            "9ea3a54d4ecd4ce3be21776de9ea05bc",
            "cd7359dd366a42509ab582e301edf3e5",
            "934f26d8b25f449da51361b311f8e717",
            "eb5ea4ff98024866a13d134951342425",
            "3de2f2ddd18b49adb564c20706e3349b",
            "0cafc395f1f5498485504f5108a675d6",
            "fb2c5210f36949bea72f0c0e839bcc72",
            "50e95ecac4f04ea589d6c9d9bf59ea50",
            "5406fc70054249d6ab34fca123327bd1"
          ]
        },
        "id": "ix9uF77qcW-D",
        "outputId": "a5fbffb6-0755-487a-c3de-24982096398e"
      },
      "execution_count": 13,
      "outputs": [
        {
          "output_type": "display_data",
          "data": {
            "text/plain": [
              "  0%|          | 0/3 [00:00<?, ?it/s]"
            ],
            "application/vnd.jupyter.widget-view+json": {
              "version_major": 2,
              "version_minor": 0,
              "model_id": "c1794c789c8446248466835f2b258d79"
            }
          },
          "metadata": {}
        },
        {
          "output_type": "execute_result",
          "data": {
            "text/plain": [
              "   Z  X  Y\n",
              "0  0  0  3"
            ],
            "text/html": [
              "\n",
              "  <div id=\"df-201df18d-56e9-4564-ac29-2a55eae81869\">\n",
              "    <div class=\"colab-df-container\">\n",
              "      <div>\n",
              "<style scoped>\n",
              "    .dataframe tbody tr th:only-of-type {\n",
              "        vertical-align: middle;\n",
              "    }\n",
              "\n",
              "    .dataframe tbody tr th {\n",
              "        vertical-align: top;\n",
              "    }\n",
              "\n",
              "    .dataframe thead th {\n",
              "        text-align: right;\n",
              "    }\n",
              "</style>\n",
              "<table border=\"1\" class=\"dataframe\">\n",
              "  <thead>\n",
              "    <tr style=\"text-align: right;\">\n",
              "      <th></th>\n",
              "      <th>Z</th>\n",
              "      <th>X</th>\n",
              "      <th>Y</th>\n",
              "    </tr>\n",
              "  </thead>\n",
              "  <tbody>\n",
              "    <tr>\n",
              "      <th>0</th>\n",
              "      <td>0</td>\n",
              "      <td>0</td>\n",
              "      <td>3</td>\n",
              "    </tr>\n",
              "  </tbody>\n",
              "</table>\n",
              "</div>\n",
              "      <button class=\"colab-df-convert\" onclick=\"convertToInteractive('df-201df18d-56e9-4564-ac29-2a55eae81869')\"\n",
              "              title=\"Convert this dataframe to an interactive table.\"\n",
              "              style=\"display:none;\">\n",
              "        \n",
              "  <svg xmlns=\"http://www.w3.org/2000/svg\" height=\"24px\"viewBox=\"0 0 24 24\"\n",
              "       width=\"24px\">\n",
              "    <path d=\"M0 0h24v24H0V0z\" fill=\"none\"/>\n",
              "    <path d=\"M18.56 5.44l.94 2.06.94-2.06 2.06-.94-2.06-.94-.94-2.06-.94 2.06-2.06.94zm-11 1L8.5 8.5l.94-2.06 2.06-.94-2.06-.94L8.5 2.5l-.94 2.06-2.06.94zm10 10l.94 2.06.94-2.06 2.06-.94-2.06-.94-.94-2.06-.94 2.06-2.06.94z\"/><path d=\"M17.41 7.96l-1.37-1.37c-.4-.4-.92-.59-1.43-.59-.52 0-1.04.2-1.43.59L10.3 9.45l-7.72 7.72c-.78.78-.78 2.05 0 2.83L4 21.41c.39.39.9.59 1.41.59.51 0 1.02-.2 1.41-.59l7.78-7.78 2.81-2.81c.8-.78.8-2.07 0-2.86zM5.41 20L4 18.59l7.72-7.72 1.47 1.35L5.41 20z\"/>\n",
              "  </svg>\n",
              "      </button>\n",
              "      \n",
              "  <style>\n",
              "    .colab-df-container {\n",
              "      display:flex;\n",
              "      flex-wrap:wrap;\n",
              "      gap: 12px;\n",
              "    }\n",
              "\n",
              "    .colab-df-convert {\n",
              "      background-color: #E8F0FE;\n",
              "      border: none;\n",
              "      border-radius: 50%;\n",
              "      cursor: pointer;\n",
              "      display: none;\n",
              "      fill: #1967D2;\n",
              "      height: 32px;\n",
              "      padding: 0 0 0 0;\n",
              "      width: 32px;\n",
              "    }\n",
              "\n",
              "    .colab-df-convert:hover {\n",
              "      background-color: #E2EBFA;\n",
              "      box-shadow: 0px 1px 2px rgba(60, 64, 67, 0.3), 0px 1px 3px 1px rgba(60, 64, 67, 0.15);\n",
              "      fill: #174EA6;\n",
              "    }\n",
              "\n",
              "    [theme=dark] .colab-df-convert {\n",
              "      background-color: #3B4455;\n",
              "      fill: #D2E3FC;\n",
              "    }\n",
              "\n",
              "    [theme=dark] .colab-df-convert:hover {\n",
              "      background-color: #434B5C;\n",
              "      box-shadow: 0px 1px 3px 1px rgba(0, 0, 0, 0.15);\n",
              "      filter: drop-shadow(0px 1px 2px rgba(0, 0, 0, 0.3));\n",
              "      fill: #FFFFFF;\n",
              "    }\n",
              "  </style>\n",
              "\n",
              "      <script>\n",
              "        const buttonEl =\n",
              "          document.querySelector('#df-201df18d-56e9-4564-ac29-2a55eae81869 button.colab-df-convert');\n",
              "        buttonEl.style.display =\n",
              "          google.colab.kernel.accessAllowed ? 'block' : 'none';\n",
              "\n",
              "        async function convertToInteractive(key) {\n",
              "          const element = document.querySelector('#df-201df18d-56e9-4564-ac29-2a55eae81869');\n",
              "          const dataTable =\n",
              "            await google.colab.kernel.invokeFunction('convertToInteractive',\n",
              "                                                     [key], {});\n",
              "          if (!dataTable) return;\n",
              "\n",
              "          const docLinkHtml = 'Like what you see? Visit the ' +\n",
              "            '<a target=\"_blank\" href=https://colab.research.google.com/notebooks/data_table.ipynb>data table notebook</a>'\n",
              "            + ' to learn more about interactive tables.';\n",
              "          element.innerHTML = '';\n",
              "          dataTable['output_type'] = 'display_data';\n",
              "          await google.colab.output.renderOutput(dataTable, element);\n",
              "          const docLink = document.createElement('div');\n",
              "          docLink.innerHTML = docLinkHtml;\n",
              "          element.appendChild(docLink);\n",
              "        }\n",
              "      </script>\n",
              "    </div>\n",
              "  </div>\n",
              "  "
            ]
          },
          "metadata": {},
          "execution_count": 13
        }
      ]
    },
    {
      "cell_type": "markdown",
      "source": [
        "# Working with combinations of canonical distributions in Pyro"
      ],
      "metadata": {
        "id": "Mx1_KI7AdOsm"
      }
    },
    {
      "cell_type": "code",
      "source": [
        "import torch\n",
        "from pyro.distributions import Bernoulli, Poisson, Gamma\n",
        "\n",
        "# Represent P(Z) with a Gamma distribution, and sample z.\n",
        "z = Gamma(7.5, 1.0).sample()    #A\n",
        "# Represent P(X|Z=z) with a Poisson distribution with location parameter z, and sample x.\n",
        "x = Poisson(z).sample()    #B\n",
        "# Represent P(Y|X=x) with a Bernoulli distribution. The probability parameter is a function of y.\n",
        "y = Bernoulli(x / (5+x)).sample()    #C\n",
        "\n",
        "print(z, x, y)\n"
      ],
      "metadata": {
        "colab": {
          "base_uri": "https://localhost:8080/"
        },
        "id": "92aWaC4qhcv0",
        "outputId": "f2817b45-29f9-467a-e06a-1d7ce4e4a794"
      },
      "execution_count": 14,
      "outputs": [
        {
          "output_type": "stream",
          "name": "stdout",
          "text": [
            "tensor(5.6375) tensor(10.) tensor(1.)\n"
          ]
        }
      ]
    },
    {
      "cell_type": "markdown",
      "source": [
        "# Random processes with nuanced control flow in Pyro"
      ],
      "metadata": {
        "id": "4eYUHJFUj7cp"
      }
    },
    {
      "cell_type": "code",
      "source": [
        "import torch\n",
        "from pyro.distributions import Bernoulli, Poisson, Gamma\n",
        "z = Gamma(7.5, 1.0).sample()\n",
        "x = Poisson(z).sample()\n",
        "# y is calculated as a sum of random coin flips.\n",
        "# y is generated from P(Y|X=x) because the number of flips depends on x.\n",
        "y = torch.tensor(0.0)\n",
        "for i in range(int(x)):\n",
        "    y += Bernoulli(.5).sample()    \n"
      ],
      "metadata": {
        "id": "IrGBg5gYj80N"
      },
      "execution_count": 15,
      "outputs": []
    },
    {
      "cell_type": "markdown",
      "source": [
        "# Using functions for random processes and pyro.sample "
      ],
      "metadata": {
        "id": "t9apo5zPlsz-"
      }
    },
    {
      "cell_type": "code",
      "source": [
        "import torch\n",
        "import pyro\n",
        "def random_process():\n",
        "    z = pyro.sample(\"z\", Gamma(7.5, 1.0))\n",
        "    x = pyro.sample(\"x\", Poisson(z))\n",
        "    y = torch.tensor(0.0)\n",
        "    for i in range(int(x)):\n",
        "        y += pyro.sample(f\"y{i}\", Bernoulli(.5))    #A\n",
        "    return y\n",
        "\n",
        "generated_samples = generator.forward_sample(size=100)\n",
        "generated_samples['Y'].apply(int).mean()\n"
      ],
      "metadata": {
        "colab": {
          "base_uri": "https://localhost:8080/",
          "height": 66,
          "referenced_widgets": [
            "b32d66b41af54ca5b927bc837d7dd205",
            "8d9ab45c15a3466a9455f96b2f3eb88e",
            "09a1c1ec4c8c49b2b6d13a0563c44465",
            "239a27be7ba1405dad4b484ffc7d59b4",
            "4c07d5a8ad034845b5b7ed45523ee139",
            "a44caf34537f4ea2aa244b90ef49bab0",
            "f119b183310e42729d68622466d3eec5",
            "d2692a2dcc804e758c6ea9a9d7548150",
            "87498decc63a427aa89862a92a1e24d1",
            "14df831d8317409f97e4c477b9f85ad7",
            "68a7f2f83a1e40aca0d1070785d01be5"
          ]
        },
        "id": "WaaIKa8dlt5q",
        "outputId": "409409ff-efbc-4f6e-a17e-bc96716d8c55"
      },
      "execution_count": 16,
      "outputs": [
        {
          "output_type": "display_data",
          "data": {
            "text/plain": [
              "  0%|          | 0/3 [00:00<?, ?it/s]"
            ],
            "application/vnd.jupyter.widget-view+json": {
              "version_major": 2,
              "version_minor": 0,
              "model_id": "b32d66b41af54ca5b927bc837d7dd205"
            }
          },
          "metadata": {}
        },
        {
          "output_type": "execute_result",
          "data": {
            "text/plain": [
              "2.24"
            ]
          },
          "metadata": {},
          "execution_count": 16
        }
      ]
    },
    {
      "cell_type": "code",
      "source": [
        "generated_samples_ = torch.stack([random_process() for _ in range(100)])\n",
        "generated_samples_.mean()"
      ],
      "metadata": {
        "colab": {
          "base_uri": "https://localhost:8080/"
        },
        "id": "NXfZ1J87mFxn",
        "outputId": "f989a801-67ea-4871-f3f0-dcfc8e2fd24a"
      },
      "execution_count": 17,
      "outputs": [
        {
          "output_type": "execute_result",
          "data": {
            "text/plain": [
              "tensor(3.9400)"
            ]
          },
          "metadata": {},
          "execution_count": 17
        }
      ]
    },
    {
      "cell_type": "code",
      "source": [
        "torch.square(generated_samples_).mean()"
      ],
      "metadata": {
        "colab": {
          "base_uri": "https://localhost:8080/"
        },
        "id": "TZpCf8eFmQh6",
        "outputId": "706380d4-ca5c-4c1e-8d70-5db9056db771"
      },
      "execution_count": 18,
      "outputs": [
        {
          "output_type": "execute_result",
          "data": {
            "text/plain": [
              "tensor(19.5800)"
            ]
          },
          "metadata": {},
          "execution_count": 18
        }
      ]
    },
    {
      "cell_type": "markdown",
      "source": [
        "# Monte Carlo estimation in Pyro"
      ],
      "metadata": {
        "id": "lfVI_FdUoBUI"
      }
    },
    {
      "cell_type": "code",
      "source": [
        "import torch\n",
        "import pyro\n",
        "from pyro.distributions import Bernoulli, Gamma, Poisson\n",
        "# This new version of random_process now returns both z and y.\n",
        "def random_process():\n",
        "    z = pyro.sample(\"z\", Gamma(7.5, 1.0))\n",
        "    x = pyro.sample(\"x\", Poisson(z))\n",
        "    y = torch.tensor(0.0)\n",
        "    for i in range(int(x)):\n",
        "        y += pyro.sample(f\"{i}\", Bernoulli(.5))\n",
        "    return z, y\n",
        "\n",
        "# Generate 1000 intances of z and y using a list comprehension.\n",
        "generated_samples = [random_process() for _ in range(1000)]\n",
        "# Turn the individual z tensors into a single tensor,\n",
        "# then calculate the Monte Carlo estimate via the mean method.\n",
        "z_mean = torch.stack([z for z, _ in generated_samples]).mean()\n",
        "\n",
        "print(z_mean)\n",
        "\n",
        "z_given_y = torch.stack([z for z, y in generated_samples if y == 3])\n",
        "\n",
        "print(z_given_y.mean())\n"
      ],
      "metadata": {
        "colab": {
          "base_uri": "https://localhost:8080/"
        },
        "id": "U1pve2xmoYAS",
        "outputId": "571c6f7f-b07c-443c-a4cf-5a0f4b0e6bbc"
      },
      "execution_count": 19,
      "outputs": [
        {
          "output_type": "stream",
          "name": "stdout",
          "text": [
            "tensor(7.6227)\n",
            "tensor(7.1827)\n"
          ]
        }
      ]
    },
    {
      "cell_type": "code",
      "source": [
        "generator.forward_sample(size=10)"
      ],
      "metadata": {
        "colab": {
          "base_uri": "https://localhost:8080/",
          "height": 395,
          "referenced_widgets": [
            "05b7f2e5e3c5412b8022498417e1fd5b",
            "f402d0bc5df547c18b8e8567d641b831",
            "182afcdcad0c49e69c5d3e5d984eb802",
            "e6c55e6e6b82455190e29aba6ede4d64",
            "6d3ce006f91e40a6893eb2c0404879d3",
            "80d6e3d9f0a3401a9382c417f35acb3c",
            "823f98d29af24aebad3ae46fe4b1652f",
            "0a234ead38114fc9afa9f681d3f7ed3d",
            "0becbe1e1ed943cea82715058517bc91",
            "d01ac39e2b96483f9e681ccabb219f3b",
            "751af3cb410c49319b5348ac50c23962"
          ]
        },
        "id": "sKz_hqByoxHf",
        "outputId": "2658b3d7-d2cc-494e-e7ff-cfc8646ad43a"
      },
      "execution_count": 20,
      "outputs": [
        {
          "output_type": "display_data",
          "data": {
            "text/plain": [
              "  0%|          | 0/3 [00:00<?, ?it/s]"
            ],
            "application/vnd.jupyter.widget-view+json": {
              "version_major": 2,
              "version_minor": 0,
              "model_id": "05b7f2e5e3c5412b8022498417e1fd5b"
            }
          },
          "metadata": {}
        },
        {
          "output_type": "execute_result",
          "data": {
            "text/plain": [
              "   Z  X  Y\n",
              "0  1  0  3\n",
              "1  1  0  3\n",
              "2  0  1  2\n",
              "3  1  1  2\n",
              "4  1  0  3\n",
              "5  0  0  1\n",
              "6  0  0  3\n",
              "7  0  1  1\n",
              "8  0  0  3\n",
              "9  0  0  3"
            ],
            "text/html": [
              "\n",
              "  <div id=\"df-4f715bc2-f18d-4e83-9a65-c67b55a88fd8\">\n",
              "    <div class=\"colab-df-container\">\n",
              "      <div>\n",
              "<style scoped>\n",
              "    .dataframe tbody tr th:only-of-type {\n",
              "        vertical-align: middle;\n",
              "    }\n",
              "\n",
              "    .dataframe tbody tr th {\n",
              "        vertical-align: top;\n",
              "    }\n",
              "\n",
              "    .dataframe thead th {\n",
              "        text-align: right;\n",
              "    }\n",
              "</style>\n",
              "<table border=\"1\" class=\"dataframe\">\n",
              "  <thead>\n",
              "    <tr style=\"text-align: right;\">\n",
              "      <th></th>\n",
              "      <th>Z</th>\n",
              "      <th>X</th>\n",
              "      <th>Y</th>\n",
              "    </tr>\n",
              "  </thead>\n",
              "  <tbody>\n",
              "    <tr>\n",
              "      <th>0</th>\n",
              "      <td>1</td>\n",
              "      <td>0</td>\n",
              "      <td>3</td>\n",
              "    </tr>\n",
              "    <tr>\n",
              "      <th>1</th>\n",
              "      <td>1</td>\n",
              "      <td>0</td>\n",
              "      <td>3</td>\n",
              "    </tr>\n",
              "    <tr>\n",
              "      <th>2</th>\n",
              "      <td>0</td>\n",
              "      <td>1</td>\n",
              "      <td>2</td>\n",
              "    </tr>\n",
              "    <tr>\n",
              "      <th>3</th>\n",
              "      <td>1</td>\n",
              "      <td>1</td>\n",
              "      <td>2</td>\n",
              "    </tr>\n",
              "    <tr>\n",
              "      <th>4</th>\n",
              "      <td>1</td>\n",
              "      <td>0</td>\n",
              "      <td>3</td>\n",
              "    </tr>\n",
              "    <tr>\n",
              "      <th>5</th>\n",
              "      <td>0</td>\n",
              "      <td>0</td>\n",
              "      <td>1</td>\n",
              "    </tr>\n",
              "    <tr>\n",
              "      <th>6</th>\n",
              "      <td>0</td>\n",
              "      <td>0</td>\n",
              "      <td>3</td>\n",
              "    </tr>\n",
              "    <tr>\n",
              "      <th>7</th>\n",
              "      <td>0</td>\n",
              "      <td>1</td>\n",
              "      <td>1</td>\n",
              "    </tr>\n",
              "    <tr>\n",
              "      <th>8</th>\n",
              "      <td>0</td>\n",
              "      <td>0</td>\n",
              "      <td>3</td>\n",
              "    </tr>\n",
              "    <tr>\n",
              "      <th>9</th>\n",
              "      <td>0</td>\n",
              "      <td>0</td>\n",
              "      <td>3</td>\n",
              "    </tr>\n",
              "  </tbody>\n",
              "</table>\n",
              "</div>\n",
              "      <button class=\"colab-df-convert\" onclick=\"convertToInteractive('df-4f715bc2-f18d-4e83-9a65-c67b55a88fd8')\"\n",
              "              title=\"Convert this dataframe to an interactive table.\"\n",
              "              style=\"display:none;\">\n",
              "        \n",
              "  <svg xmlns=\"http://www.w3.org/2000/svg\" height=\"24px\"viewBox=\"0 0 24 24\"\n",
              "       width=\"24px\">\n",
              "    <path d=\"M0 0h24v24H0V0z\" fill=\"none\"/>\n",
              "    <path d=\"M18.56 5.44l.94 2.06.94-2.06 2.06-.94-2.06-.94-.94-2.06-.94 2.06-2.06.94zm-11 1L8.5 8.5l.94-2.06 2.06-.94-2.06-.94L8.5 2.5l-.94 2.06-2.06.94zm10 10l.94 2.06.94-2.06 2.06-.94-2.06-.94-.94-2.06-.94 2.06-2.06.94z\"/><path d=\"M17.41 7.96l-1.37-1.37c-.4-.4-.92-.59-1.43-.59-.52 0-1.04.2-1.43.59L10.3 9.45l-7.72 7.72c-.78.78-.78 2.05 0 2.83L4 21.41c.39.39.9.59 1.41.59.51 0 1.02-.2 1.41-.59l7.78-7.78 2.81-2.81c.8-.78.8-2.07 0-2.86zM5.41 20L4 18.59l7.72-7.72 1.47 1.35L5.41 20z\"/>\n",
              "  </svg>\n",
              "      </button>\n",
              "      \n",
              "  <style>\n",
              "    .colab-df-container {\n",
              "      display:flex;\n",
              "      flex-wrap:wrap;\n",
              "      gap: 12px;\n",
              "    }\n",
              "\n",
              "    .colab-df-convert {\n",
              "      background-color: #E8F0FE;\n",
              "      border: none;\n",
              "      border-radius: 50%;\n",
              "      cursor: pointer;\n",
              "      display: none;\n",
              "      fill: #1967D2;\n",
              "      height: 32px;\n",
              "      padding: 0 0 0 0;\n",
              "      width: 32px;\n",
              "    }\n",
              "\n",
              "    .colab-df-convert:hover {\n",
              "      background-color: #E2EBFA;\n",
              "      box-shadow: 0px 1px 2px rgba(60, 64, 67, 0.3), 0px 1px 3px 1px rgba(60, 64, 67, 0.15);\n",
              "      fill: #174EA6;\n",
              "    }\n",
              "\n",
              "    [theme=dark] .colab-df-convert {\n",
              "      background-color: #3B4455;\n",
              "      fill: #D2E3FC;\n",
              "    }\n",
              "\n",
              "    [theme=dark] .colab-df-convert:hover {\n",
              "      background-color: #434B5C;\n",
              "      box-shadow: 0px 1px 3px 1px rgba(0, 0, 0, 0.15);\n",
              "      filter: drop-shadow(0px 1px 2px rgba(0, 0, 0, 0.3));\n",
              "      fill: #FFFFFF;\n",
              "    }\n",
              "  </style>\n",
              "\n",
              "      <script>\n",
              "        const buttonEl =\n",
              "          document.querySelector('#df-4f715bc2-f18d-4e83-9a65-c67b55a88fd8 button.colab-df-convert');\n",
              "        buttonEl.style.display =\n",
              "          google.colab.kernel.accessAllowed ? 'block' : 'none';\n",
              "\n",
              "        async function convertToInteractive(key) {\n",
              "          const element = document.querySelector('#df-4f715bc2-f18d-4e83-9a65-c67b55a88fd8');\n",
              "          const dataTable =\n",
              "            await google.colab.kernel.invokeFunction('convertToInteractive',\n",
              "                                                     [key], {});\n",
              "          if (!dataTable) return;\n",
              "\n",
              "          const docLinkHtml = 'Like what you see? Visit the ' +\n",
              "            '<a target=\"_blank\" href=https://colab.research.google.com/notebooks/data_table.ipynb>data table notebook</a>'\n",
              "            + ' to learn more about interactive tables.';\n",
              "          element.innerHTML = '';\n",
              "          dataTable['output_type'] = 'display_data';\n",
              "          await google.colab.output.renderOutput(dataTable, element);\n",
              "          const docLink = document.createElement('div');\n",
              "          docLink.innerHTML = docLinkHtml;\n",
              "          element.appendChild(docLink);\n",
              "        }\n",
              "      </script>\n",
              "    </div>\n",
              "  </div>\n",
              "  "
            ]
          },
          "metadata": {},
          "execution_count": 20
        }
      ]
    },
    {
      "cell_type": "markdown",
      "source": [
        "# Generating IID samples in Pyro"
      ],
      "metadata": {
        "id": "aajo3IGGo0Gq"
      }
    },
    {
      "cell_type": "code",
      "source": [
        "import pyro\n",
        "from pyro.distributions import Bernoulli, Poisson, Gamma\n",
        "\n",
        "def model():\n",
        "    z = pyro.sample(\"z\", Gamma(7.5, 1.0))\n",
        "    x = pyro.sample(\"x\", Poisson(z))\n",
        "    # pyro.plate is a context manager for generating conditional independent\n",
        "    # samples. This instance of pyro.plate will generate 10 IID samples.\n",
        "    with pyro.plate('IID', 10):\n",
        "        # Calling pyro.sample to generates a single outcome y, where y is a\n",
        "        # tensor of 10 IID samples.\n",
        "        y = pyro.sample(\"y\", Bernoulli(x / (5+x)))\n",
        "    return y\n",
        "\n",
        "model()"
      ],
      "metadata": {
        "colab": {
          "base_uri": "https://localhost:8080/"
        },
        "id": "x_v3os5No1Mv",
        "outputId": "40c6103e-df0a-467a-dd9a-7f7b3855b6c4"
      },
      "execution_count": 21,
      "outputs": [
        {
          "output_type": "execute_result",
          "data": {
            "text/plain": [
              "tensor([0., 0., 0., 1., 0., 0., 0., 0., 0., 1.])"
            ]
          },
          "metadata": {},
          "execution_count": 21
        }
      ]
    },
    {
      "cell_type": "markdown",
      "source": [
        "# An example of a data generating process in code form"
      ],
      "metadata": {
        "id": "EZliAGAGpOMO"
      }
    },
    {
      "cell_type": "code",
      "source": [
        "def true_dgp(jenny_inclination, brian_inclination, window_strength):    #A\n",
        "    jenny_throws_rock = jenny_inclination > 0.5    #B\n",
        "    brian_throws_rock = brian_inclination > 0.5    #B\n",
        "    if jenny_throws_rock and brian_throws_rock:    #C\n",
        "        strength_of_impact = 0.8    #C\n",
        "    elif jenny_throws_rock or brian_throws_rock:    #D\n",
        "        strength_of_impact = 0.6    #D\n",
        "    else:    #E\n",
        "        strength_of_impact = 0.0    #E\n",
        "    window_breaks = window_strength < strength_of_impact    #F\n",
        "    return jenny_throws_rock, brian_throws_rock, window_breaks\n",
        "\n",
        "#A Input variables reflect Jenny and Brian’s inclination to throw and the window strength.\n",
        "#B Jenny and Brian throw the rock if so inclined.\n",
        "#C If both Jenny and Brian throw the rock, the total strength of the impact is .8.\n",
        "#D If either Jenny or Brian throws the rock, the total strength of the impact is .6.\n",
        "#E Otherwise, no one throws and the strength of impact is 0.\n",
        "#F If the strength of impact is greater than the strength of the window, the window breaks.\n",
        "\n",
        "initials = [\n",
        "    (0.6, 0.31, 0.83),\n",
        "    (0.48, 0.53, 0.33),\n",
        "    (0.66, 0.63, 0.75),\n",
        "    (0.65, 0.66, 0.8),\n",
        "    (0.48, 0.16, 0.27)\n",
        "]\n",
        "\n",
        "data_points = []\n",
        "for jenny_inclination, brian_inclination, window_strength in initials:    \n",
        "    data_points.append(\n",
        "        true_dgp(\n",
        "            jenny_inclination, brian_inclination, window_strength\n",
        "        )\n",
        "    )\n",
        "\n",
        "print(data_points)"
      ],
      "metadata": {
        "colab": {
          "base_uri": "https://localhost:8080/"
        },
        "id": "RpuftchRpPUc",
        "outputId": "12a562d2-b317-4533-d9e2-36cdef53baf6"
      },
      "execution_count": 22,
      "outputs": [
        {
          "output_type": "stream",
          "name": "stdout",
          "text": [
            "[(True, False, False), (False, True, True), (True, True, True), (True, True, False), (False, False, False)]\n"
          ]
        }
      ]
    }
  ]
}