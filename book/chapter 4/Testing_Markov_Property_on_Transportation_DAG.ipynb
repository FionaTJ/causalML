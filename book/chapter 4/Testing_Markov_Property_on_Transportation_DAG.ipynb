{
  "nbformat": 4,
  "nbformat_minor": 0,
  "metadata": {
    "colab": {
      "provenance": [],
      "include_colab_link": true
    },
    "kernelspec": {
      "name": "python3",
      "display_name": "Python 3"
    },
    "language_info": {
      "name": "python"
    }
  },
  "cells": [
    {
      "cell_type": "markdown",
      "metadata": {
        "id": "view-in-github",
        "colab_type": "text"
      },
      "source": [
        "<a href=\"https://colab.research.google.com/github/altdeep/causalML/blob/master/book/chapter%204/Testing_Markov_Property_on_Transportation_DAG.ipynb\" target=\"_parent\"><img src=\"https://colab.research.google.com/assets/colab-badge.svg\" alt=\"Open In Colab\"/></a>"
      ]
    },
    {
      "cell_type": "code",
      "source": [
        "!pip install pgmpy"
      ],
      "metadata": {
        "id": "xQs8VigU0TdV"
      },
      "execution_count": null,
      "outputs": []
    },
    {
      "cell_type": "code",
      "source": [
        "import pandas as pd\n",
        "import numpy as np\n",
        "from pgmpy.base.DAG import DAG\n",
        "from pgmpy.estimators.CITests import chi_square\n",
        "from pgmpy.independencies import IndependenceAssertion"
      ],
      "metadata": {
        "id": "lKE0cLBEyQpc"
      },
      "execution_count": null,
      "outputs": []
    },
    {
      "cell_type": "code",
      "execution_count": null,
      "metadata": {
        "id": "me9JRP0hyK3o"
      },
      "outputs": [],
      "source": [
        "# Build the causal DAG.\n",
        "G = DAG()\n",
        "G.add_edges_from(\n",
        "    [\n",
        "      ('A','E'),\n",
        "      ('S','E'),\n",
        "      ('E','O'),\n",
        "      ('E','R'),\n",
        "      ('O','T'),\n",
        "      ('R','T')\n",
        "    ]\n",
        ")\n",
        "\n",
        "# Load N examples from the data\n",
        "survey_url = \"https://raw.githubusercontent.com/altdeep/causalML/master/datasets/transportation_survey.csv\"\n",
        "\n",
        "N = 30\n",
        "full_data = pd.read_csv(survey_url)\n",
        "data = full_data[:N]\n",
        "\n",
        "# List D-Separations\n",
        "dseps = G.get_independencies()\n",
        "print(dseps)\n",
        "\n",
        "# Run Chi-squared tests for independence\n",
        "significance = .01\n",
        "\n",
        "def test_dsep(dsep: IndependenceAssertion):\n",
        "  test_outputs = []\n",
        "  for X in list(dsep.get_assertion()[0]):\n",
        "    for Y in list(dsep.get_assertion()[1]):\n",
        "      Z = list(dsep.get_assertion()[2])\n",
        "      test_result = chi_square(X=X, Y=Y, Z=Z, data=data, boolean=True, significance_level=significance)\n",
        "      test_outputs.append((IndependenceAssertion(X, Y, Z), test_result))\n",
        "  return test_outputs\n",
        "\n",
        "results = [test_dsep(dsep) for dsep in dseps.get_assertions()]\n",
        "results_flat = [item for sublist in results for item in sublist]\n",
        "results = {k: v for k, v in results_flat}\n",
        "print(results)\n",
        "\n",
        "# Hint on how to count the number of Trues.\n",
        "sum(results.values())"
      ]
    },
    {
      "cell_type": "markdown",
      "source": [
        "## Learning questions\n",
        "\n",
        "### *How do conditional independence tests like the Chi-squared test used in the code work?*  \n",
        "\n",
        "The null hypothesis is independence, the alternative hyphothesis is not independence. To test if X is conditional independence of Y given Z, the test looks in the data for a statistically significant amount of statistical association between X and Y for different values of Z. If the p-value is greater than the significance level, we conclude independence.\n",
        "\n",
        "### *What is the impact of sample size on this analysis?*\n",
        "\n",
        "In this analysis, we took the first 30 rows from the data, thus sample size in the test was 30.  Test statistics (e.g. p-values) depend on sample size. Thus, the number of p-values that fall above or below the threshold will depend on the size of the data. The size of the data has nothing to do with ground truth causality. As an exercise, vary the variable N. As N increases, you should see that The number of tests that return True increases with N.\n",
        "\n",
        "### *Why does the number of validated d-separations go up when the signficance level goes down?*\n",
        "\n",
        "The CI test concludes in favor of independence when the p-value is greater than the significance threshold. So reducing the threshold makes more tests pass.\n",
        "As data size goes up, p-values go down. As data size goes down, p-values go up. The more data you have, the more likely you will have spurious patterns of connection that look like dependence but really aren't. \n",
        "\n",
        "The presence of a d-separation implies independence.  But don't confuse the presence of d-separation *evidence* of independence; the two are not the same. For better or for worse, evidence of independence depends on data size."
      ],
      "metadata": {
        "id": "O3PhIBh8ye8o"
      }
    },
    {
      "cell_type": "code",
      "source": [],
      "metadata": {
        "id": "lMUpypcDyt86"
      },
      "execution_count": null,
      "outputs": []
    }
  ]
}